{
 "cells": [
  {
   "cell_type": "markdown",
   "id": "a8452c6a-24c0-4f2a-b634-7dba2748efbf",
   "metadata": {},
   "source": [
    "# Librerias"
   ]
  },
  {
   "cell_type": "code",
   "execution_count": 90,
   "id": "929a2f78-0488-4a67-b385-bd1747e1e2c4",
   "metadata": {},
   "outputs": [],
   "source": [
    "import numpy as np\n",
    "import matplotlib.pyplot as plt\n",
    "from sklearn.model_selection import train_test_split\n",
    "from sklearn import datasets\n",
    "from sklearn.metrics import confusion_matrix\n",
    "from sklearn.metrics import classification_report\n",
    "import seaborn as sns"
   ]
  },
  {
   "cell_type": "markdown",
   "id": "577fadb2-5669-4e5b-b3ff-7740cfb47139",
   "metadata": {},
   "source": [
    "# Mejoramiento de datos "
   ]
  },
  {
   "cell_type": "code",
   "execution_count": 91,
   "id": "41403720-d617-473c-b1c4-78be465898c2",
   "metadata": {},
   "outputs": [],
   "source": [
    "def sigmoid(z):\n",
    "    return 1/(1+np.exp(-z))"
   ]
  },
  {
   "cell_type": "code",
   "execution_count": 92,
   "id": "bee88aa7-feae-42a3-a72f-978d261dcc63",
   "metadata": {},
   "outputs": [],
   "source": [
    "def thetaBest(theta, x_train, y_train):\n",
    "    sigma = sigmoid(x_train@theta)\n",
    "    theta = (1/m)*(x_train.T @ (sigma-y_train))\n",
    "    return theta"
   ]
  },
  {
   "cell_type": "code",
   "execution_count": 93,
   "id": "a60e49d8-9d69-4aa5-bfa8-915a18e87731",
   "metadata": {},
   "outputs": [],
   "source": [
    "def costo(theta, x_train, y_train):\n",
    "    sigma = sigmoid(x_train@theta)\n",
    "    error = (y_train*np.log(sigma) + (1-y_train)*np.log(1-sigma))\n",
    "    return np.sum(error, axis= 0)"
   ]
  },
  {
   "cell_type": "markdown",
   "id": "f2387bf5-92cd-40a8-8c90-26e801709d70",
   "metadata": {},
   "source": [
    "# Data "
   ]
  },
  {
   "cell_type": "code",
   "execution_count": 94,
   "id": "f0169a4e-d3dd-402b-8a27-ca18f1dafcb8",
   "metadata": {},
   "outputs": [],
   "source": [
    "iris = datasets.load_iris()"
   ]
  },
  {
   "cell_type": "code",
   "execution_count": 95,
   "id": "c2c02100-0827-4610-b006-3153954569a8",
   "metadata": {},
   "outputs": [],
   "source": [
    "X = iris[\"data\"][::]\n",
    "y = (iris[\"target\"]).astype(int).reshape(len(iris.target),1)"
   ]
  },
  {
   "cell_type": "markdown",
   "id": "762bd828-9ab0-4ec2-9a64-18ebcd64e440",
   "metadata": {},
   "source": [
    "# Estandarizacion"
   ]
  },
  {
   "cell_type": "code",
   "execution_count": 96,
   "id": "5e23e3fe-d16a-4d66-8abe-76fef8c0de2d",
   "metadata": {},
   "outputs": [],
   "source": [
    "for i in range(X.shape[1]):\n",
    "    mean = X[:,i].mean()\n",
    "    deviation =  X[:,i].std()\n",
    "    X[:,i] = (X[:,i] - mean) / deviation"
   ]
  },
  {
   "cell_type": "markdown",
   "id": "6fe0585b-9d28-43c7-b1f3-6a0816215669",
   "metadata": {},
   "source": [
    "# Separacion de datos de testeo y entrenamiento "
   ]
  },
  {
   "cell_type": "code",
   "execution_count": 97,
   "id": "bd2927f3-9b9f-40e7-8448-f8fb625489c0",
   "metadata": {},
   "outputs": [],
   "source": [
    "X_train, X_test, y_train, y_test = train_test_split( X,y, test_size=0.2, random_state=55)"
   ]
  },
  {
   "cell_type": "code",
   "execution_count": 98,
   "id": "6c944326-7c06-4dc3-975b-aa0626498cf9",
   "metadata": {},
   "outputs": [],
   "source": [
    "X_train = np.c_[np.ones((len(X_train),1)), X_train]\n",
    "X_test = np.c_[np.ones((len(X_test),1)), X_test]"
   ]
  },
  {
   "cell_type": "markdown",
   "id": "c2bf3906-3c11-4ce9-ba2e-c5556da0d38d",
   "metadata": {},
   "source": [
    "# One Vs All"
   ]
  },
  {
   "cell_type": "markdown",
   "id": "d1ac1232-dd51-4995-840d-608c9f0bf0ee",
   "metadata": {},
   "source": [
    "# Setosa vs versicolor y virginica"
   ]
  },
  {
   "cell_type": "code",
   "execution_count": 99,
   "id": "68f7a4a4-807d-4c6f-a837-a7a8d006db05",
   "metadata": {},
   "outputs": [
    {
     "data": {
      "text/plain": [
       "array([[0.77825759],\n",
       "       [0.84151119],\n",
       "       [0.81814495],\n",
       "       [0.71770831],\n",
       "       [0.24972847]])"
      ]
     },
     "execution_count": 99,
     "metadata": {},
     "output_type": "execute_result"
    }
   ],
   "source": [
    "theta_setosa = np.random.rand(X_train.shape[1]).reshape(X_train.shape[1],1)\n",
    "theta_setosa"
   ]
  },
  {
   "cell_type": "code",
   "execution_count": 100,
   "id": "4b431181-7505-4282-a191-ebd376e8d8d1",
   "metadata": {},
   "outputs": [
    {
     "data": {
      "text/plain": [
       "array([[-4.68715228],\n",
       "       [-1.85839144],\n",
       "       [ 4.38462796],\n",
       "       [-3.86060744],\n",
       "       [-3.90648357]])"
      ]
     },
     "execution_count": 100,
     "metadata": {},
     "output_type": "execute_result"
    }
   ],
   "source": [
    "eta = 0.8\n",
    "n_iter = 10000\n",
    "m = len(X_train)\n",
    "J_set = np.zeros(n_iter)\n",
    "\n",
    "y_train_setosa = (y_train == 0).astype(int)\n",
    "for i in range(n_iter):\n",
    "    J_set[i] = -(1/m)*costo(theta_setosa, X_train, y_train_setosa)\n",
    "    theta_setosa = theta_setosa - eta * thetaBest(theta_setosa, X_train, y_train_setosa)\n",
    "theta_setosa"
   ]
  },
  {
   "cell_type": "code",
   "execution_count": 101,
   "id": "ba5b003e-13a0-4526-99d4-45bf339d5fff",
   "metadata": {},
   "outputs": [
    {
     "data": {
      "image/png": "[encoded data removed]",
      "text/plain": [
       "<Figure size 432x288 with 1 Axes>"
      ]
     },
     "metadata": {
      "needs_background": "light"
     },
     "output_type": "display_data"
    }
   ],
   "source": [
    "plt.plot(np.arange(n_iter), J_set, \"b-\")\n",
    "plt.xlabel(\"$iteraciones$\", fontsize=18)\n",
    "plt.ylabel(r\"$J(\\theta)$\", fontsize=18)\n",
    "plt.grid(True)\n",
    "plt.show()"
   ]
  },
  {
   "cell_type": "code",
   "execution_count": 102,
   "id": "c52cc833-589d-4f3d-9aaa-53d579059277",
   "metadata": {},
   "outputs": [
    {
     "data": {
      "text/plain": [
       "array([[1.  , 1.  , 1.  , 0.  , 0.  , 1.  , 0.  , 0.  , 1.  , 1.  , 1.  ,\n",
       "        0.  , 0.  , 1.  , 0.  , 0.  , 0.  , 0.67, 0.  , 0.  , 0.01, 0.  ,\n",
       "        0.  , 0.  , 0.  , 0.  , 0.  , 0.  , 0.  , 0.  ]])"
      ]
     },
     "execution_count": 102,
     "metadata": {},
     "output_type": "execute_result"
    }
   ],
   "source": [
    "y_proba_setosa =np.round(sigmoid(theta_setosa.T @ X_test.T),2)\n",
    "y_proba_setosa"
   ]
  },
  {
   "cell_type": "markdown",
   "id": "cc7bfc54-c00b-4f06-99de-b6a40368b792",
   "metadata": {},
   "source": [
    "# Versicolor vs sotosa y virginica"
   ]
  },
  {
   "cell_type": "code",
   "execution_count": 103,
   "id": "a728b225-55eb-4ece-b225-9b899ba30b0b",
   "metadata": {},
   "outputs": [
    {
     "data": {
      "text/plain": [
       "array([[0.42951627],\n",
       "       [0.94934137],\n",
       "       [0.46051137],\n",
       "       [0.47327574],\n",
       "       [0.50593262]])"
      ]
     },
     "execution_count": 103,
     "metadata": {},
     "output_type": "execute_result"
    }
   ],
   "source": [
    "theta_versicolor = np.random.rand(X_train.shape[1]).reshape(X_train.shape[1],1)\n",
    "theta_versicolor"
   ]
  },
  {
   "cell_type": "code",
   "execution_count": 104,
   "id": "11a44abf-09aa-4a4b-a94a-b4c8d561829b",
   "metadata": {},
   "outputs": [
    {
     "data": {
      "text/plain": [
       "array([[-1.0900476 ],\n",
       "       [ 0.89404648],\n",
       "       [-1.94127996],\n",
       "       [ 1.00774803],\n",
       "       [-2.14137318]])"
      ]
     },
     "execution_count": 104,
     "metadata": {},
     "output_type": "execute_result"
    }
   ],
   "source": [
    "eta = 0.8\n",
    "n_iter = 10000\n",
    "m = len(X_train)\n",
    "J_vers = np.zeros(n_iter)\n",
    "\n",
    "y_train_versicolor = (y_train == 1).astype(int)\n",
    "for i in range(n_iter):\n",
    "    J_vers[i] = -(1/m)*costo(theta_versicolor, X_train, y_train_versicolor)\n",
    "    theta_versicolor = theta_versicolor - eta * thetaBest(theta_versicolor, X_train, y_train_versicolor)\n",
    "theta_versicolor"
   ]
  },
  {
   "cell_type": "code",
   "execution_count": 105,
   "id": "ed991bbd-3194-436b-89b3-7fae040e8d4d",
   "metadata": {},
   "outputs": [
    {
     "data": {
      "image/png": "[encoded data removed]",
      "text/plain": [
       "<Figure size 432x288 with 1 Axes>"
      ]
     },
     "metadata": {
      "needs_background": "light"
     },
     "output_type": "display_data"
    }
   ],
   "source": [
    "plt.plot(np.arange(n_iter), J_set, \"b-\")\n",
    "plt.xlabel(\"$iteraciones$\", fontsize=18)\n",
    "plt.ylabel(r\"$J(\\theta)$\", fontsize=18)\n",
    "plt.grid(True)\n",
    "plt.show()"
   ]
  },
  {
   "cell_type": "code",
   "execution_count": 106,
   "id": "fc17644d-2433-4a2a-9c7a-f5b3b54ab4cd",
   "metadata": {},
   "outputs": [
    {
     "data": {
      "text/plain": [
       "array([[0.38, 0.12, 0.38, 0.2 , 0.01, 0.45, 0.15, 0.15, 0.  , 0.14, 0.03,\n",
       "        0.18, 0.02, 0.31, 0.07, 0.06, 0.76, 0.88, 0.82, 0.72, 0.04, 0.75,\n",
       "        0.15, 0.36, 0.34, 0.55, 0.84, 0.86, 0.01, 0.47]])"
      ]
     },
     "execution_count": 106,
     "metadata": {},
     "output_type": "execute_result"
    }
   ],
   "source": [
    "y_proba_ver = np.round(sigmoid(theta_versicolor.T @ X_test.T),2)\n",
    "y_proba_ver"
   ]
  },
  {
   "cell_type": "markdown",
   "id": "3b41ce57-0805-4a15-be28-fdcad7483cb2",
   "metadata": {},
   "source": [
    "# virginica vs sotosa y versicolor"
   ]
  },
  {
   "cell_type": "code",
   "execution_count": 107,
   "id": "0425b90a-21d5-4a77-9cda-05d3b74cc832",
   "metadata": {},
   "outputs": [
    {
     "data": {
      "text/plain": [
       "array([[0.52037671],\n",
       "       [0.98464935],\n",
       "       [0.64840702],\n",
       "       [0.21886623],\n",
       "       [0.7059996 ]])"
      ]
     },
     "execution_count": 107,
     "metadata": {},
     "output_type": "execute_result"
    }
   ],
   "source": [
    "theta_virginica = np.random.rand(X_train.shape[1]).reshape(X_train.shape[1],1)\n",
    "theta_virginica"
   ]
  },
  {
   "cell_type": "code",
   "execution_count": 108,
   "id": "6836d7b7-50ab-488f-9dcd-c793e931565c",
   "metadata": {},
   "outputs": [
    {
     "data": {
      "text/plain": [
       "array([[-12.41931227],\n",
       "       [ -2.67996335],\n",
       "       [ -0.99933044],\n",
       "       [ 11.82203353],\n",
       "       [  9.57329503]])"
      ]
     },
     "execution_count": 108,
     "metadata": {},
     "output_type": "execute_result"
    }
   ],
   "source": [
    "eta = 0.8\n",
    "n_iter = 10000\n",
    "m = len(X_train)\n",
    "J_vir = np.zeros(n_iter)\n",
    "\n",
    "y_train_virg = (y_train == 2).astype(int)\n",
    "for i in range(n_iter):\n",
    "    J_vir[i] = -(1/m)*costo(theta_virginica, X_train, y_train_virg)\n",
    "    theta_virginica = theta_virginica - eta * thetaBest(theta_virginica, X_train, y_train_virg)\n",
    "theta_virginica"
   ]
  },
  {
   "cell_type": "code",
   "execution_count": 109,
   "id": "0f27edc9-0f29-4345-b3c9-ce6a4412dabc",
   "metadata": {},
   "outputs": [
    {
     "data": {
      "image/png": "[encoded data removed]",
      "text/plain": [
       "<Figure size 432x288 with 1 Axes>"
      ]
     },
     "metadata": {
      "needs_background": "light"
     },
     "output_type": "display_data"
    }
   ],
   "source": [
    "plt.plot(np.arange(n_iter), J_vir, \"b-\")\n",
    "plt.xlabel(\"$iteraciones$\", fontsize=18)\n",
    "plt.ylabel(r\"$J(\\theta)$\", fontsize=18)\n",
    "plt.grid(True)\n",
    "plt.show()"
   ]
  },
  {
   "cell_type": "code",
   "execution_count": 110,
   "id": "ad4d2077-4000-432f-85a2-99158ef0b711",
   "metadata": {},
   "outputs": [
    {
     "data": {
      "text/plain": [
       "array([[0.  , 0.  , 0.  , 0.99, 1.  , 0.  , 1.  , 0.98, 0.  , 0.  , 0.  ,\n",
       "        0.06, 1.  , 0.  , 1.  , 0.84, 0.  , 0.  , 0.  , 1.  , 0.02, 1.  ,\n",
       "        0.11, 1.  , 0.01, 0.  , 1.  , 0.  , 1.  , 0.02]])"
      ]
     },
     "execution_count": 110,
     "metadata": {},
     "output_type": "execute_result"
    }
   ],
   "source": [
    "y_proba_vir = np.round(sigmoid(theta_virginica.T @ X_test.T),2)\n",
    "y_proba_vir"
   ]
  },
  {
   "cell_type": "markdown",
   "id": "1e7dcb03-3941-4309-bf82-c5bb257d7c98",
   "metadata": {},
   "source": [
    "# Comparacion "
   ]
  },
  {
   "cell_type": "code",
   "execution_count": 111,
   "id": "9242e5ee-feb0-41a8-82dc-c88fd9d7242b",
   "metadata": {},
   "outputs": [
    {
     "data": {
      "text/plain": [
       "array([[1.  , 0.38, 0.  ],\n",
       "       [1.  , 0.12, 0.  ],\n",
       "       [1.  , 0.38, 0.  ],\n",
       "       [0.  , 0.2 , 0.99],\n",
       "       [0.  , 0.01, 1.  ],\n",
       "       [1.  , 0.45, 0.  ],\n",
       "       [0.  , 0.15, 1.  ],\n",
       "       [0.  , 0.15, 0.98],\n",
       "       [1.  , 0.  , 0.  ],\n",
       "       [1.  , 0.14, 0.  ],\n",
       "       [1.  , 0.03, 0.  ],\n",
       "       [0.  , 0.18, 0.06],\n",
       "       [0.  , 0.02, 1.  ],\n",
       "       [1.  , 0.31, 0.  ],\n",
       "       [0.  , 0.07, 1.  ],\n",
       "       [0.  , 0.06, 0.84],\n",
       "       [0.  , 0.76, 0.  ],\n",
       "       [0.67, 0.88, 0.  ],\n",
       "       [0.  , 0.82, 0.  ],\n",
       "       [0.  , 0.72, 1.  ],\n",
       "       [0.01, 0.04, 0.02],\n",
       "       [0.  , 0.75, 1.  ],\n",
       "       [0.  , 0.15, 0.11],\n",
       "       [0.  , 0.36, 1.  ],\n",
       "       [0.  , 0.34, 0.01],\n",
       "       [0.  , 0.55, 0.  ],\n",
       "       [0.  , 0.84, 1.  ],\n",
       "       [0.  , 0.86, 0.  ],\n",
       "       [0.  , 0.01, 1.  ],\n",
       "       [0.  , 0.47, 0.02]])"
      ]
     },
     "execution_count": 111,
     "metadata": {},
     "output_type": "execute_result"
    }
   ],
   "source": [
    "compar = np.concatenate((y_proba_setosa, y_proba_ver, y_proba_vir), axis =0).T\n",
    "compar"
   ]
  },
  {
   "cell_type": "code",
   "execution_count": 112,
   "id": "ab7e3a46-f46d-4153-a2f3-c0ce8eab5b98",
   "metadata": {},
   "outputs": [],
   "source": [
    "prediction_final = []\n",
    "for i in range(len(compar)):\n",
    "    #print(compar[i])\n",
    "    index_value = compar[i].argmax()\n",
    "    prediction_final.append(index_value)\n",
    "prediction_final = np.array(prediction_final).reshape(1, len(prediction_final))"
   ]
  },
  {
   "cell_type": "code",
   "execution_count": 113,
   "id": "74f9fb87-694f-4b05-ae57-f4e8ee3a89a5",
   "metadata": {},
   "outputs": [
    {
     "data": {
      "text/plain": [
       "array([[1.  , 0.38, 0.  , 0.  , 0.  ],\n",
       "       [1.  , 0.12, 0.  , 0.  , 0.  ],\n",
       "       [1.  , 0.38, 0.  , 0.  , 0.  ],\n",
       "       [0.  , 0.2 , 0.99, 2.  , 2.  ],\n",
       "       [0.  , 0.01, 1.  , 2.  , 2.  ],\n",
       "       [1.  , 0.45, 0.  , 0.  , 0.  ],\n",
       "       [0.  , 0.15, 1.  , 2.  , 2.  ],\n",
       "       [0.  , 0.15, 0.98, 2.  , 2.  ],\n",
       "       [1.  , 0.  , 0.  , 0.  , 0.  ],\n",
       "       [1.  , 0.14, 0.  , 0.  , 0.  ],\n",
       "       [1.  , 0.03, 0.  , 0.  , 0.  ],\n",
       "       [0.  , 0.18, 0.06, 1.  , 1.  ],\n",
       "       [0.  , 0.02, 1.  , 2.  , 2.  ],\n",
       "       [1.  , 0.31, 0.  , 0.  , 0.  ],\n",
       "       [0.  , 0.07, 1.  , 2.  , 2.  ],\n",
       "       [0.  , 0.06, 0.84, 2.  , 1.  ],\n",
       "       [0.  , 0.76, 0.  , 1.  , 1.  ],\n",
       "       [0.67, 0.88, 0.  , 1.  , 0.  ],\n",
       "       [0.  , 0.82, 0.  , 1.  , 1.  ],\n",
       "       [0.  , 0.72, 1.  , 2.  , 2.  ],\n",
       "       [0.01, 0.04, 0.02, 1.  , 1.  ],\n",
       "       [0.  , 0.75, 1.  , 2.  , 2.  ],\n",
       "       [0.  , 0.15, 0.11, 1.  , 1.  ],\n",
       "       [0.  , 0.36, 1.  , 2.  , 2.  ],\n",
       "       [0.  , 0.34, 0.01, 1.  , 1.  ],\n",
       "       [0.  , 0.55, 0.  , 1.  , 1.  ],\n",
       "       [0.  , 0.84, 1.  , 2.  , 2.  ],\n",
       "       [0.  , 0.86, 0.  , 1.  , 1.  ],\n",
       "       [0.  , 0.01, 1.  , 2.  , 2.  ],\n",
       "       [0.  , 0.47, 0.02, 1.  , 1.  ]])"
      ]
     },
     "execution_count": 113,
     "metadata": {},
     "output_type": "execute_result"
    }
   ],
   "source": [
    "last_data = np.concatenate((y_proba_setosa, y_proba_ver, y_proba_vir, prediction_final, y_test.reshape(1, len(y_test)) ), axis =0).T\n",
    "last_data"
   ]
  },
  {
   "cell_type": "code",
   "execution_count": 114,
   "id": "635c2a80-f763-44da-84de-e58a922b0df2",
   "metadata": {},
   "outputs": [
    {
     "data": {
      "text/plain": [
       "array([[ 8,  1,  0],\n",
       "       [ 0,  9,  1],\n",
       "       [ 0,  0, 11]], dtype=int64)"
      ]
     },
     "execution_count": 114,
     "metadata": {},
     "output_type": "execute_result"
    }
   ],
   "source": [
    "cm = confusion_matrix(y_test, prediction_final.flatten())\n",
    "cm"
   ]
  },
  {
   "cell_type": "code",
   "execution_count": 115,
   "id": "6ab75209-b67c-42b2-bda7-3e6cd82f62e4",
   "metadata": {},
   "outputs": [
    {
     "data": {
      "text/plain": [
       "0.9333333333333333"
      ]
     },
     "execution_count": 115,
     "metadata": {},
     "output_type": "execute_result"
    }
   ],
   "source": [
    "actual = 0\n",
    "total = 0\n",
    "\n",
    "for i in range(len(cm)):\n",
    "    for j in range(len(cm[i])):\n",
    "        if i == j:\n",
    "            actual = cm[i][j] + actual\n",
    "        total = cm[i][j] + total\n",
    "actual / total"
   ]
  },
  {
   "cell_type": "code",
   "execution_count": 116,
   "id": "1111ecd8-fbbb-470e-a0ff-5b4fc95036b7",
   "metadata": {},
   "outputs": [
    {
     "data": {
      "image/png": "[encoded data removed]",
      "text/plain": [
       "<Figure size 432x288 with 2 Axes>"
      ]
     },
     "metadata": {
      "needs_background": "light"
     },
     "output_type": "display_data"
    }
   ],
   "source": [
    "y_axis_labels = iris[\"target_names\"]\n",
    "x_axis_labels = ['setosa_pred', 'versicolor_pred', 'virginica_pred']\n",
    "f = sns.heatmap(cm, annot=True, xticklabels=x_axis_labels, yticklabels=y_axis_labels)"
   ]
  },
  {
   "cell_type": "code",
   "execution_count": 117,
   "id": "dc3fb0a4-b363-4dee-9562-8eeed8aec558",
   "metadata": {},
   "outputs": [
    {
     "name": "stdout",
     "output_type": "stream",
     "text": [
      "              precision    recall  f1-score   support\n",
      "\n",
      "      setosa       1.00      0.89      0.94         9\n",
      "  versicolor       0.90      0.90      0.90        10\n",
      "   virginica       0.92      1.00      0.96        11\n",
      "\n",
      "    accuracy                           0.93        30\n",
      "   macro avg       0.94      0.93      0.93        30\n",
      "weighted avg       0.94      0.93      0.93        30\n",
      "\n"
     ]
    }
   ],
   "source": [
    "print(classification_report(y_test,  prediction_final.flatten(), target_names= iris[\"target_names\"]))"
   ]
  },
  {
   "cell_type": "code",
   "execution_count": null,
   "id": "7547810f-f621-4c1b-b511-da007e15a8b5",
   "metadata": {},
   "outputs": [],
   "source": []
  }
 ],
 "metadata": {
  "kernelspec": {
   "display_name": "Python 3 (ipykernel)",
   "language": "python",
   "name": "python3"
  },
  "language_info": {
   "codemirror_mode": {
    "name": "ipython",
    "version": 3
   },
   "file_extension": ".py",
   "mimetype": "text/x-python",
   "name": "python",
   "nbconvert_exporter": "python",
   "pygments_lexer": "ipython3",
   "version": "3.10.1"
  }
 },
 "nbformat": 4,
 "nbformat_minor": 5
}
