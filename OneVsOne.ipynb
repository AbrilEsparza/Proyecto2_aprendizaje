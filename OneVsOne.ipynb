{
 "cells": [
  {
   "cell_type": "code",
   "execution_count": 139,
   "id": "32e2ee8f-ff61-4fff-907a-fe9d261abcb4",
   "metadata": {},
   "outputs": [],
   "source": [
    "import numpy as np\n",
    "import matplotlib.pyplot as plt\n",
    "from sklearn.model_selection import train_test_split\n",
    "from sklearn import datasets\n",
    "from sklearn.metrics import confusion_matrix\n",
    "from sklearn.metrics import classification_report\n",
    "import seaborn as sns"
   ]
  },
  {
   "cell_type": "markdown",
   "id": "333a82ab-a265-4231-adf6-7e76ede0e884",
   "metadata": {},
   "source": [
    "# Mejoramiento de datos "
   ]
  },
  {
   "cell_type": "code",
   "execution_count": 140,
   "id": "b7442385-673c-4830-bf69-c50680d467d3",
   "metadata": {},
   "outputs": [],
   "source": [
    "def sigmoid(z):\n",
    "    return 1/(1+np.exp(-z))"
   ]
  },
  {
   "cell_type": "code",
   "execution_count": 141,
   "id": "14c34bcc-a956-4c52-8aa4-5eca28f6ae18",
   "metadata": {},
   "outputs": [],
   "source": [
    "def optimizar(theta, x_train, y_train):\n",
    "    sigma = sigmoid(x_train@theta)\n",
    "    theta = (x_train.T @ (sigma-y_train))\n",
    "    return theta"
   ]
  },
  {
   "cell_type": "code",
   "execution_count": 142,
   "id": "acede110-0e45-4346-9027-f57e6276649b",
   "metadata": {},
   "outputs": [],
   "source": [
    "def costo(theta, x_train, y_train):\n",
    "    \n",
    "    sigma = sigmoid(x_train@theta)\n",
    "    error = (y_train*np.log(sigma) + (1-y_train)*np.log(1-sigma))\n",
    "    return np.sum(error, axis= 0)"
   ]
  },
  {
   "cell_type": "code",
   "execution_count": 143,
   "id": "6ca173b7-a76c-4e82-88cf-cc83d64d9cda",
   "metadata": {},
   "outputs": [],
   "source": [
    "def costo(theta, x_train, y_train):\n",
    "    \n",
    "    sigma = sigmoid(x_train@theta)\n",
    "    error = (y_train*np.log(sigma) + (1-y_train)*np.log(1-sigma))\n",
    "    return np.sum(error, axis= 0)"
   ]
  },
  {
   "cell_type": "markdown",
   "id": "1c9462e1-e73b-4c21-8e0f-45b3a01d1a02",
   "metadata": {},
   "source": [
    "# Data "
   ]
  },
  {
   "cell_type": "code",
   "execution_count": 144,
   "id": "58af5781-d7b4-4921-9eff-d7e3e43b17ff",
   "metadata": {},
   "outputs": [],
   "source": [
    "iris = datasets.load_iris()"
   ]
  },
  {
   "cell_type": "code",
   "execution_count": 145,
   "id": "b6e005b2-3c06-4745-9f6a-983ec0e28a1f",
   "metadata": {},
   "outputs": [],
   "source": [
    "X = iris[\"data\"][::]\n",
    "y = (iris[\"target\"]).astype(int).reshape(len(iris.target),1)"
   ]
  },
  {
   "cell_type": "markdown",
   "id": "60549eea-7007-416d-9dde-e0b2d4ee46fc",
   "metadata": {},
   "source": [
    "# Estandarizacion"
   ]
  },
  {
   "cell_type": "code",
   "execution_count": 146,
   "id": "a1ce0e53-c357-4e41-a239-adf6e9920d73",
   "metadata": {},
   "outputs": [],
   "source": [
    "for i in range(X.shape[1]):\n",
    "    mean = X[:,i].mean()\n",
    "    deviation =  X[:,i].std()\n",
    "    X[:,i] = (X[:,i] - mean) / deviation"
   ]
  },
  {
   "cell_type": "markdown",
   "id": "aaa23d4e-a60a-497f-b77c-7bd570c7b3ee",
   "metadata": {},
   "source": [
    "# Separacion de datos de testeo y entrenamiento "
   ]
  },
  {
   "cell_type": "code",
   "execution_count": 147,
   "id": "5f696d6a-0c76-425b-8aec-494e1dc1c3b9",
   "metadata": {},
   "outputs": [],
   "source": [
    "X_train, X_test, y_train, y_test = train_test_split( X,y, test_size=0.2, random_state=55)"
   ]
  },
  {
   "cell_type": "code",
   "execution_count": 148,
   "id": "ad5a928f-2e4e-44ba-b34a-45df35852603",
   "metadata": {},
   "outputs": [],
   "source": [
    "def exclude_data(class_vector, num_exclude):\n",
    "    vectores = []\n",
    "\n",
    "    for i in range(len(class_vector)):\n",
    "        if class_vector[i] != num_exclude:\n",
    "            vectores.append(i)\n",
    "\n",
    "    return np.array(vectores)  "
   ]
  },
  {
   "cell_type": "code",
   "execution_count": 149,
   "id": "6372a9af-3dc4-48c3-8904-74916030fd47",
   "metadata": {},
   "outputs": [],
   "source": [
    "def gradiente(theta, x_train, y_train, eta = 0.8, n_iter = 10000):\n",
    "    J = np.zeros(n_iter)\n",
    "    m = len(x_train)\n",
    "    for i in range(n_iter):\n",
    "        J[i] = -(1/m)*costo(theta, x_train, y_train)\n",
    "        theta = theta - eta * (1/m)*optimizar(theta, x_train, y_train)\n",
    "    return theta, J"
   ]
  },
  {
   "cell_type": "code",
   "execution_count": 150,
   "id": "f3890230-2d27-4afb-bbce-6b0fe6ac4cd1",
   "metadata": {},
   "outputs": [],
   "source": [
    "def  vector_comparacion(y_proba_1, y_proba_2, y_proba_1_value, y_proba_2_value):\n",
    "    comparar = np.concatenate((y_proba_1, y_proba_2), axis =0).T\n",
    "    prediction_final = []\n",
    "    for i in range(len(comparar)):\n",
    "        #print(compar[i])\n",
    "        valor_max = comparar[i].max()\n",
    "        #print(compar[i].max())\n",
    "        if comparar[i][0] == valor_max:\n",
    "            prediction_final.append(y_proba_1_value)\n",
    "        elif comparar[i][1] == valor_max:\n",
    "            prediction_final.append(y_proba_2_value)\n",
    "\n",
    "    prediction_final = np.array(prediction_final).reshape(1, len(prediction_final))\n",
    "    last_data = np.concatenate((y_proba_1, y_proba_2, prediction_final), axis =0).T\n",
    "    return last_data, prediction_final.T\n"
   ]
  },
  {
   "cell_type": "markdown",
   "id": "02f9ff5d-46b8-4daf-b8ef-aa44b58ff025",
   "metadata": {},
   "source": [
    "A = setosa\n",
    "B = versicolor\n",
    "C = virginica"
   ]
  },
  {
   "cell_type": "markdown",
   "id": "f380610f-e4f9-4278-b3ed-6d6875b124a5",
   "metadata": {},
   "source": [
    "# AB"
   ]
  },
  {
   "cell_type": "markdown",
   "id": "98359183-0d71-4401-9ee1-098255bf8a39",
   "metadata": {},
   "source": [
    "Primero busco los indices de todos los valores excepto del virginica"
   ]
  },
  {
   "cell_type": "code",
   "execution_count": 151,
   "id": "42d48fe6-ff36-40d9-81df-7053a20ef19c",
   "metadata": {},
   "outputs": [
    {
     "data": {
      "text/plain": [
       "array([  0,   1,   4,   5,   6,   7,   9,  10,  11,  12,  13,  14,  18,\n",
       "        21,  22,  24,  25,  26,  27,  28,  29,  30,  32,  34,  36,  38,\n",
       "        39,  40,  41,  43,  44,  45,  49,  50,  53,  54,  56,  57,  58,\n",
       "        59,  60,  63,  64,  65,  66,  67,  70,  72,  73,  74,  75,  76,\n",
       "        78,  82,  83,  85,  86,  88,  90,  92,  93,  94,  96,  97,  98,\n",
       "        99, 100, 101, 102, 105, 106, 107, 109, 110, 111, 113, 114, 115,\n",
       "       116, 117, 119])"
      ]
     },
     "execution_count": 151,
     "metadata": {},
     "output_type": "execute_result"
    }
   ],
   "source": [
    "X_AB = exclude_data(y_train, 2)\n",
    "X_AB"
   ]
  },
  {
   "cell_type": "code",
   "execution_count": 152,
   "id": "c83c67a3-4c17-48e7-b8a9-453abff422fe",
   "metadata": {},
   "outputs": [],
   "source": [
    "X_train_AB = X_train[X_AB]\n",
    "y_train_AB = y_train[X_AB]\n"
   ]
  },
  {
   "cell_type": "code",
   "execution_count": 153,
   "id": "c620a31f-9f93-473f-9b6f-5095cc697cf3",
   "metadata": {},
   "outputs": [],
   "source": [
    "X_train_AB = np.c_[np.ones((len(X_train_AB),1)), X_train_AB]\n",
    "X_test_AB = np.c_[np.ones((len(X_test),1)), X_test]"
   ]
  },
  {
   "cell_type": "code",
   "execution_count": 154,
   "id": "37cb0fd8-94a1-41ed-b8f5-c2262a979254",
   "metadata": {},
   "outputs": [
    {
     "data": {
      "text/plain": [
       "array([[-4.99638541],\n",
       "       [-2.23829873],\n",
       "       [ 4.68806939],\n",
       "       [-3.9268372 ],\n",
       "       [-3.98411997]])"
      ]
     },
     "execution_count": 154,
     "metadata": {},
     "output_type": "execute_result"
    }
   ],
   "source": [
    "n_iter = 10000\n",
    "\n",
    "theta_setosa_AB = np.random.randn(X_train_AB.shape[1]).reshape(X_train_AB.shape[1],1)\n",
    "y_train_set_AB = (y_train_AB == 0).astype(int)\n",
    "\n",
    "theta_setosa_AB, J_set = gradiente(theta_setosa_AB, X_train_AB, y_train_set_AB)\n",
    "theta_setosa_AB"
   ]
  },
  {
   "cell_type": "code",
   "execution_count": 155,
   "id": "51599b2c-c1fb-44f3-ad6a-04a45051b02f",
   "metadata": {},
   "outputs": [
    {
     "data": {
      "image/png": "[encoded data removed]",
      "text/plain": [
       "<Figure size 432x288 with 1 Axes>"
      ]
     },
     "metadata": {
      "needs_background": "light"
     },
     "output_type": "display_data"
    }
   ],
   "source": [
    "plt.plot(np.arange(n_iter), J_set, \"b-\")\n",
    "plt.xlabel(\"$iteraciones$\", fontsize=18)\n",
    "plt.ylabel(r\"$J(\\theta)$\", fontsize=18)\n",
    "plt.grid(True)\n",
    "plt.show()"
   ]
  },
  {
   "cell_type": "code",
   "execution_count": 156,
   "id": "06b2206b-f84f-4c63-9ffa-4c634c98a26c",
   "metadata": {},
   "outputs": [
    {
     "data": {
      "text/plain": [
       "array([[1.  , 1.  , 1.  , 0.  , 0.  , 1.  , 0.  , 0.  , 1.  , 1.  , 1.  ,\n",
       "        0.  , 0.  , 1.  , 0.  , 0.  , 0.  , 0.66, 0.  , 0.  , 0.  , 0.  ,\n",
       "        0.  , 0.  , 0.  , 0.  , 0.  , 0.  , 0.  , 0.  ]])"
      ]
     },
     "execution_count": 156,
     "metadata": {},
     "output_type": "execute_result"
    }
   ],
   "source": [
    "y_proba_set_AB =np.round(sigmoid(theta_setosa_AB.T @ X_test_AB.T),2)\n",
    "y_proba_set_AB"
   ]
  },
  {
   "cell_type": "code",
   "execution_count": 157,
   "id": "20de8a2f-235c-40cc-8402-9c39015804c1",
   "metadata": {},
   "outputs": [
    {
     "data": {
      "text/plain": [
       "array([[ 4.98977786],\n",
       "       [ 2.60733648],\n",
       "       [-4.94489212],\n",
       "       [ 3.57305575],\n",
       "       [ 4.00183371]])"
      ]
     },
     "execution_count": 157,
     "metadata": {},
     "output_type": "execute_result"
    }
   ],
   "source": [
    "n_iter = 10000\n",
    "theta_versicolor_AB = np.random.randn(X_train_AB.shape[1]).reshape(X_train_AB.shape[1],1)\n",
    "y_train_ver_AB = (y_train_AB == 1).astype(int)\n",
    "\n",
    "theta_versicolor_AB, J_vers = gradiente(theta_versicolor_AB, X_train_AB, y_train_ver_AB)\n",
    "theta_versicolor_AB"
   ]
  },
  {
   "cell_type": "code",
   "execution_count": 158,
   "id": "1b67c464-1353-4190-aab0-2ffa523d64e7",
   "metadata": {},
   "outputs": [
    {
     "data": {
      "image/png": "[encoded data removed]",
      "text/plain": [
       "<Figure size 432x288 with 1 Axes>"
      ]
     },
     "metadata": {
      "needs_background": "light"
     },
     "output_type": "display_data"
    }
   ],
   "source": [
    "plt.plot(np.arange(n_iter), J_vers, \"b-\")\n",
    "plt.xlabel(\"$iteraciones$\", fontsize=18)\n",
    "plt.ylabel(r\"$J(\\theta)$\", fontsize=18)\n",
    "plt.grid(True)\n",
    "plt.show()"
   ]
  },
  {
   "cell_type": "code",
   "execution_count": 159,
   "id": "7fa258af-03d2-4489-8dc3-bf61f7affec8",
   "metadata": {},
   "outputs": [
    {
     "data": {
      "text/plain": [
       "array([[0.  , 0.  , 0.  , 1.  , 1.  , 0.  , 1.  , 1.  , 0.  , 0.  , 0.  ,\n",
       "        1.  , 1.  , 0.  , 1.  , 1.  , 1.  , 0.41, 1.  , 1.  , 0.99, 1.  ,\n",
       "        1.  , 1.  , 1.  , 1.  , 1.  , 1.  , 1.  , 1.  ]])"
      ]
     },
     "execution_count": 159,
     "metadata": {},
     "output_type": "execute_result"
    }
   ],
   "source": [
    "y_proba_ver_AB =np.round(sigmoid(theta_versicolor_AB.T @ X_test_AB.T),2)\n",
    "y_proba_ver_AB"
   ]
  },
  {
   "cell_type": "code",
   "execution_count": 160,
   "id": "75041a1a-d0f1-4b06-8c20-a56655f5634e",
   "metadata": {},
   "outputs": [
    {
     "data": {
      "text/plain": [
       "array([[1.  , 0.  , 0.  ],\n",
       "       [1.  , 0.  , 0.  ],\n",
       "       [1.  , 0.  , 0.  ],\n",
       "       [0.  , 1.  , 1.  ],\n",
       "       [0.  , 1.  , 1.  ],\n",
       "       [1.  , 0.  , 0.  ],\n",
       "       [0.  , 1.  , 1.  ],\n",
       "       [0.  , 1.  , 1.  ],\n",
       "       [1.  , 0.  , 0.  ],\n",
       "       [1.  , 0.  , 0.  ],\n",
       "       [1.  , 0.  , 0.  ],\n",
       "       [0.  , 1.  , 1.  ],\n",
       "       [0.  , 1.  , 1.  ],\n",
       "       [1.  , 0.  , 0.  ],\n",
       "       [0.  , 1.  , 1.  ],\n",
       "       [0.  , 1.  , 1.  ],\n",
       "       [0.  , 1.  , 1.  ],\n",
       "       [0.66, 0.41, 0.  ],\n",
       "       [0.  , 1.  , 1.  ],\n",
       "       [0.  , 1.  , 1.  ],\n",
       "       [0.  , 0.99, 1.  ],\n",
       "       [0.  , 1.  , 1.  ],\n",
       "       [0.  , 1.  , 1.  ],\n",
       "       [0.  , 1.  , 1.  ],\n",
       "       [0.  , 1.  , 1.  ],\n",
       "       [0.  , 1.  , 1.  ],\n",
       "       [0.  , 1.  , 1.  ],\n",
       "       [0.  , 1.  , 1.  ],\n",
       "       [0.  , 1.  , 1.  ],\n",
       "       [0.  , 1.  , 1.  ]])"
      ]
     },
     "execution_count": 160,
     "metadata": {},
     "output_type": "execute_result"
    }
   ],
   "source": [
    "last_data_AB, votar_AB = vector_comparacion(y_proba_set_AB,y_proba_ver_AB, 0 ,1)\n",
    "last_data_AB"
   ]
  },
  {
   "cell_type": "markdown",
   "id": "b801aaa8-d8f5-4e06-9a69-dfc27c518fb9",
   "metadata": {},
   "source": [
    "# AC"
   ]
  },
  {
   "cell_type": "code",
   "execution_count": 161,
   "id": "41333f64-7f8e-48f8-be77-e2c643ec14ef",
   "metadata": {},
   "outputs": [
    {
     "data": {
      "text/plain": [
       "array([  0,   1,   2,   3,   4,   7,   8,  11,  13,  15,  16,  17,  18,\n",
       "        19,  20,  21,  23,  25,  26,  28,  29,  31,  32,  33,  35,  36,\n",
       "        37,  38,  39,  40,  41,  42,  44,  45,  46,  47,  48,  51,  52,\n",
       "        53,  54,  55,  57,  60,  61,  62,  65,  68,  69,  70,  71,  73,\n",
       "        74,  75,  76,  77,  79,  80,  81,  83,  84,  87,  88,  89,  91,\n",
       "        94,  95,  97,  99, 101, 103, 104, 107, 108, 111, 112, 115, 117,\n",
       "       118, 119])"
      ]
     },
     "execution_count": 161,
     "metadata": {},
     "output_type": "execute_result"
    }
   ],
   "source": [
    "X_AC = exclude_data(y_train, 1)\n",
    "X_AC"
   ]
  },
  {
   "cell_type": "code",
   "execution_count": 162,
   "id": "dac98e03-2ae3-491a-a7a7-aef70941bc70",
   "metadata": {},
   "outputs": [],
   "source": [
    "X_train_AC = X_train[X_AC]\n",
    "y_train_AC = y_train[X_AC]"
   ]
  },
  {
   "cell_type": "code",
   "execution_count": 163,
   "id": "bb2da491-c74e-4125-b250-4562b034fb97",
   "metadata": {},
   "outputs": [],
   "source": [
    "X_train_AC = np.c_[np.ones((len(X_train_AC),1)), X_train_AC]\n",
    "X_test_AC = np.c_[np.ones((len(X_test),1)), X_test]"
   ]
  },
  {
   "cell_type": "code",
   "execution_count": 164,
   "id": "cfdc9ffa-f4bf-47f7-a91f-e03679fa090f",
   "metadata": {},
   "outputs": [
    {
     "data": {
      "text/plain": [
       "array([[-1.48059991],\n",
       "       [-1.21780301],\n",
       "       [ 1.98729506],\n",
       "       [-3.37832531],\n",
       "       [-4.34052929]])"
      ]
     },
     "execution_count": 164,
     "metadata": {},
     "output_type": "execute_result"
    }
   ],
   "source": [
    "n_iter = 10000\n",
    "\n",
    "theta_setosa_AC = np.random.randn(X_train_AC.shape[1]).reshape(X_train_AC.shape[1],1)\n",
    "y_train_set_AC = (y_train_AC == 0).astype(int)\n",
    "\n",
    "theta_setosa_AC, J_set = gradiente(theta_setosa_AC, X_train_AC, y_train_set_AC)\n",
    "theta_setosa_AC"
   ]
  },
  {
   "cell_type": "code",
   "execution_count": 165,
   "id": "07812aa4-9894-40f4-81b5-f86163a3b776",
   "metadata": {},
   "outputs": [
    {
     "data": {
      "image/png": "[encoded data removed]",
      "text/plain": [
       "<Figure size 432x288 with 1 Axes>"
      ]
     },
     "metadata": {
      "needs_background": "light"
     },
     "output_type": "display_data"
    }
   ],
   "source": [
    "plt.plot(np.arange(n_iter), J_set, \"b-\")\n",
    "plt.xlabel(\"$iteraciones$\", fontsize=18)\n",
    "plt.ylabel(r\"$J(\\theta)$\", fontsize=18)\n",
    "plt.grid(True)\n",
    "plt.show()"
   ]
  },
  {
   "cell_type": "code",
   "execution_count": 166,
   "id": "993509d7-571f-4d9d-9731-9aaa598ce3b2",
   "metadata": {},
   "outputs": [
    {
     "data": {
      "text/plain": [
       "array([[1.  , 1.  , 1.  , 0.  , 0.  , 1.  , 0.  , 0.  , 1.  , 1.  , 1.  ,\n",
       "        0.01, 0.  , 1.  , 0.  , 0.  , 0.  , 1.  , 0.03, 0.  , 0.02, 0.  ,\n",
       "        0.01, 0.  , 0.  , 0.02, 0.  , 0.  , 0.  , 0.  ]])"
      ]
     },
     "execution_count": 166,
     "metadata": {},
     "output_type": "execute_result"
    }
   ],
   "source": [
    "y_proba_set_AC =np.round(sigmoid(theta_setosa_AC.T @ X_test_AC.T),2)\n",
    "y_proba_set_AC"
   ]
  },
  {
   "cell_type": "code",
   "execution_count": 167,
   "id": "52e7344e-c952-438d-b86a-d42eae29224e",
   "metadata": {},
   "outputs": [
    {
     "data": {
      "text/plain": [
       "array([[ 1.7383804 ],\n",
       "       [ 1.50160502],\n",
       "       [-2.14064097],\n",
       "       [ 3.73888078],\n",
       "       [ 3.63020655]])"
      ]
     },
     "execution_count": 167,
     "metadata": {},
     "output_type": "execute_result"
    }
   ],
   "source": [
    "n_iter = 10000\n",
    "theta_virginica_AC = np.random.randn(X_train_AC.shape[1]).reshape(X_train_AC.shape[1],1)\n",
    "y_train_ver_AC = (y_train_AC == 2).astype(int)\n",
    "\n",
    "theta_virginica_AC, J_vir = gradiente(theta_virginica_AC, X_train_AC, y_train_ver_AC)\n",
    "theta_virginica_AC"
   ]
  },
  {
   "cell_type": "code",
   "execution_count": 168,
   "id": "d461e5dc-ea55-4ab0-acb8-59e3484b5b9d",
   "metadata": {},
   "outputs": [
    {
     "data": {
      "text/plain": [
       "array([[0.  , 0.  , 0.  , 1.  , 1.  , 0.  , 1.  , 1.  , 0.  , 0.  , 0.  ,\n",
       "        0.99, 1.  , 0.  , 1.  , 1.  , 1.  , 0.  , 0.98, 1.  , 0.98, 1.  ,\n",
       "        0.99, 1.  , 1.  , 0.99, 1.  , 1.  , 1.  , 1.  ]])"
      ]
     },
     "execution_count": 168,
     "metadata": {},
     "output_type": "execute_result"
    }
   ],
   "source": [
    "y_proba_vir_AC =np.round(sigmoid(theta_virginica_AC.T @ X_test_AC.T),2)\n",
    "y_proba_vir_AC"
   ]
  },
  {
   "cell_type": "code",
   "execution_count": 169,
   "id": "c97d68fa-aa0a-4682-966a-d20564266220",
   "metadata": {},
   "outputs": [
    {
     "data": {
      "text/plain": [
       "array([[1.  , 0.  , 0.  ],\n",
       "       [1.  , 0.  , 0.  ],\n",
       "       [1.  , 0.  , 0.  ],\n",
       "       [0.  , 1.  , 2.  ],\n",
       "       [0.  , 1.  , 2.  ],\n",
       "       [1.  , 0.  , 0.  ],\n",
       "       [0.  , 1.  , 2.  ],\n",
       "       [0.  , 1.  , 2.  ],\n",
       "       [1.  , 0.  , 0.  ],\n",
       "       [1.  , 0.  , 0.  ],\n",
       "       [1.  , 0.  , 0.  ],\n",
       "       [0.01, 0.99, 2.  ],\n",
       "       [0.  , 1.  , 2.  ],\n",
       "       [1.  , 0.  , 0.  ],\n",
       "       [0.  , 1.  , 2.  ],\n",
       "       [0.  , 1.  , 2.  ],\n",
       "       [0.  , 1.  , 2.  ],\n",
       "       [1.  , 0.  , 0.  ],\n",
       "       [0.03, 0.98, 2.  ],\n",
       "       [0.  , 1.  , 2.  ],\n",
       "       [0.02, 0.98, 2.  ],\n",
       "       [0.  , 1.  , 2.  ],\n",
       "       [0.01, 0.99, 2.  ],\n",
       "       [0.  , 1.  , 2.  ],\n",
       "       [0.  , 1.  , 2.  ],\n",
       "       [0.02, 0.99, 2.  ],\n",
       "       [0.  , 1.  , 2.  ],\n",
       "       [0.  , 1.  , 2.  ],\n",
       "       [0.  , 1.  , 2.  ],\n",
       "       [0.  , 1.  , 2.  ]])"
      ]
     },
     "execution_count": 169,
     "metadata": {},
     "output_type": "execute_result"
    }
   ],
   "source": [
    "last_data_AC, votar_AC = vector_comparacion(y_proba_set_AC,y_proba_vir_AC, 0 ,2)\n",
    "last_data_AC"
   ]
  },
  {
   "cell_type": "markdown",
   "id": "0edca1d0-0e10-46d4-8ca3-eca1be697c10",
   "metadata": {},
   "source": [
    "# BC"
   ]
  },
  {
   "cell_type": "code",
   "execution_count": 170,
   "id": "0d672e6e-7035-4788-9a0d-4a657123af46",
   "metadata": {},
   "outputs": [
    {
     "data": {
      "text/plain": [
       "array([  2,   3,   5,   6,   8,   9,  10,  12,  14,  15,  16,  17,  19,\n",
       "        20,  22,  23,  24,  27,  30,  31,  33,  34,  35,  37,  42,  43,\n",
       "        46,  47,  48,  49,  50,  51,  52,  55,  56,  58,  59,  61,  62,\n",
       "        63,  64,  66,  67,  68,  69,  71,  72,  77,  78,  79,  80,  81,\n",
       "        82,  84,  85,  86,  87,  89,  90,  91,  92,  93,  95,  96,  98,\n",
       "       100, 102, 103, 104, 105, 106, 108, 109, 110, 112, 113, 114, 116,\n",
       "       118])"
      ]
     },
     "execution_count": 170,
     "metadata": {},
     "output_type": "execute_result"
    }
   ],
   "source": [
    "X_BC = exclude_data(y_train, 0)\n",
    "X_BC"
   ]
  },
  {
   "cell_type": "code",
   "execution_count": 171,
   "id": "3cff6f92-67a1-4d84-a61e-c5395d1a920a",
   "metadata": {},
   "outputs": [],
   "source": [
    "X_train_BC = X_train[X_BC]\n",
    "y_train_BC = y_train[X_BC]"
   ]
  },
  {
   "cell_type": "code",
   "execution_count": 172,
   "id": "5734ce49-7ef3-4ae8-b71e-054fcce8d719",
   "metadata": {},
   "outputs": [
    {
     "data": {
      "text/plain": [
       "(79, 5)"
      ]
     },
     "execution_count": 172,
     "metadata": {},
     "output_type": "execute_result"
    }
   ],
   "source": [
    "X_train_BC = np.c_[np.ones((len(X_train_BC),1)), X_train_BC]\n",
    "X_test_BC = np.c_[np.ones((len(X_test),1)), X_test]\n",
    "X_train_BC.shape"
   ]
  },
  {
   "cell_type": "code",
   "execution_count": 173,
   "id": "4b36b50a-55b6-4d3f-98a5-4589ae2c416d",
   "metadata": {},
   "outputs": [
    {
     "data": {
      "text/plain": [
       "array([[ 13.45624041],\n",
       "       [  2.83328901],\n",
       "       [  1.09457353],\n",
       "       [-12.83456586],\n",
       "       [-10.16304803]])"
      ]
     },
     "execution_count": 173,
     "metadata": {},
     "output_type": "execute_result"
    }
   ],
   "source": [
    "n_iter = 10000\n",
    "\n",
    "theta_versicolor_BC = np.random.randn(X_train_BC.shape[1]).reshape(X_train_BC.shape[1],1)\n",
    "y_train_set_BC = (y_train_BC == 1).astype(int)\n",
    "\n",
    "theta_versicolor_BC, J_set = gradiente(theta_versicolor_BC, X_train_BC, y_train_set_BC)\n",
    "theta_versicolor_BC"
   ]
  },
  {
   "cell_type": "code",
   "execution_count": 174,
   "id": "44bdeedb-705d-4e9c-afe4-1492c2609275",
   "metadata": {},
   "outputs": [
    {
     "data": {
      "image/png": "[encoded data removed]",
      "text/plain": [
       "<Figure size 432x288 with 1 Axes>"
      ]
     },
     "metadata": {
      "needs_background": "light"
     },
     "output_type": "display_data"
    }
   ],
   "source": [
    "plt.plot(np.arange(n_iter), J_set, \"b-\")\n",
    "plt.xlabel(\"$iteraciones$\", fontsize=18)\n",
    "plt.ylabel(r\"$J(\\theta)$\", fontsize=18)\n",
    "plt.grid(True)\n",
    "plt.show()"
   ]
  },
  {
   "cell_type": "code",
   "execution_count": 175,
   "id": "405541ea-a2f8-4017-bd2a-72c1e18a8e4d",
   "metadata": {},
   "outputs": [
    {
     "data": {
      "text/plain": [
       "array([[1.  , 1.  , 1.  , 0.01, 0.  , 1.  , 0.  , 0.01, 1.  , 1.  , 1.  ,\n",
       "        0.95, 0.  , 1.  , 0.  , 0.16, 1.  , 1.  , 1.  , 0.  , 0.98, 0.  ,\n",
       "        0.91, 0.  , 1.  , 1.  , 0.  , 1.  , 0.  , 0.99]])"
      ]
     },
     "execution_count": 175,
     "metadata": {},
     "output_type": "execute_result"
    }
   ],
   "source": [
    "y_proba_ver_BC =np.round(sigmoid(theta_versicolor_BC.T @ X_test_BC.T),2)\n",
    "y_proba_ver_BC"
   ]
  },
  {
   "cell_type": "code",
   "execution_count": 176,
   "id": "38dc8cee-8b08-412d-9a40-abb55a0d15e3",
   "metadata": {},
   "outputs": [
    {
     "data": {
      "text/plain": [
       "array([[-13.45620429],\n",
       "       [ -2.83388877],\n",
       "       [ -1.09424691],\n",
       "       [ 12.83620427],\n",
       "       [ 10.16193173]])"
      ]
     },
     "execution_count": 176,
     "metadata": {},
     "output_type": "execute_result"
    }
   ],
   "source": [
    "n_iter = 10000\n",
    "theta_virginica_BC = np.random.randn(X_train_BC.shape[1]).reshape(X_train_BC.shape[1],1)\n",
    "y_train_ver_BC = (y_train_BC == 2).astype(int)\n",
    "\n",
    "theta_virginica_BC, J_vir = gradiente(theta_virginica_BC, X_train_BC, y_train_ver_BC)\n",
    "theta_virginica_BC"
   ]
  },
  {
   "cell_type": "code",
   "execution_count": 177,
   "id": "522d53de-1b57-4d07-b183-4d62026f5d88",
   "metadata": {},
   "outputs": [
    {
     "data": {
      "image/png": "[encoded data removed]",
      "text/plain": [
       "<Figure size 432x288 with 1 Axes>"
      ]
     },
     "metadata": {
      "needs_background": "light"
     },
     "output_type": "display_data"
    }
   ],
   "source": [
    "plt.plot(np.arange(n_iter), J_set, \"b-\")\n",
    "plt.xlabel(\"$iteraciones$\", fontsize=18)\n",
    "plt.ylabel(r\"$J(\\theta)$\", fontsize=18)\n",
    "plt.grid(True)\n",
    "plt.show()"
   ]
  },
  {
   "cell_type": "code",
   "execution_count": 179,
   "id": "103762c9-99bc-467e-8c98-a3eaac0d7fdc",
   "metadata": {},
   "outputs": [
    {
     "data": {
      "text/plain": [
       "array([[0.  , 0.  , 0.  , 0.99, 1.  , 0.  , 1.  , 0.99, 0.  , 0.  , 0.  ,\n",
       "        0.05, 1.  , 0.  , 1.  , 0.84, 0.  , 0.  , 0.  , 1.  , 0.02, 1.  ,\n",
       "        0.09, 1.  , 0.  , 0.  , 1.  , 0.  , 1.  , 0.01]])"
      ]
     },
     "execution_count": 179,
     "metadata": {},
     "output_type": "execute_result"
    }
   ],
   "source": [
    "y_proba_vir_BC =np.round(sigmoid(theta_virginica_BC.T @ X_test_BC.T),2)\n",
    "y_proba_vir_BC"
   ]
  },
  {
   "cell_type": "code",
   "execution_count": 180,
   "id": "bcdc2b1f-af0d-4b1f-be8f-61253bd7bf2d",
   "metadata": {},
   "outputs": [
    {
     "data": {
      "text/plain": [
       "array([[1.  , 0.  , 1.  ],\n",
       "       [1.  , 0.  , 1.  ],\n",
       "       [1.  , 0.  , 1.  ],\n",
       "       [0.01, 0.99, 2.  ],\n",
       "       [0.  , 1.  , 2.  ],\n",
       "       [1.  , 0.  , 1.  ],\n",
       "       [0.  , 1.  , 2.  ],\n",
       "       [0.01, 0.99, 2.  ],\n",
       "       [1.  , 0.  , 1.  ],\n",
       "       [1.  , 0.  , 1.  ],\n",
       "       [1.  , 0.  , 1.  ],\n",
       "       [0.95, 0.05, 1.  ],\n",
       "       [0.  , 1.  , 2.  ],\n",
       "       [1.  , 0.  , 1.  ],\n",
       "       [0.  , 1.  , 2.  ],\n",
       "       [0.16, 0.84, 2.  ],\n",
       "       [1.  , 0.  , 1.  ],\n",
       "       [1.  , 0.  , 1.  ],\n",
       "       [1.  , 0.  , 1.  ],\n",
       "       [0.  , 1.  , 2.  ],\n",
       "       [0.98, 0.02, 1.  ],\n",
       "       [0.  , 1.  , 2.  ],\n",
       "       [0.91, 0.09, 1.  ],\n",
       "       [0.  , 1.  , 2.  ],\n",
       "       [1.  , 0.  , 1.  ],\n",
       "       [1.  , 0.  , 1.  ],\n",
       "       [0.  , 1.  , 2.  ],\n",
       "       [1.  , 0.  , 1.  ],\n",
       "       [0.  , 1.  , 2.  ],\n",
       "       [0.99, 0.01, 1.  ]])"
      ]
     },
     "execution_count": 180,
     "metadata": {},
     "output_type": "execute_result"
    }
   ],
   "source": [
    "last_data_BC, votar_BC = vector_comparacion(y_proba_ver_BC,y_proba_vir_BC, 1 ,2)\n",
    "last_data_BC"
   ]
  },
  {
   "cell_type": "code",
   "execution_count": 181,
   "id": "feb62593-82c9-47df-8e45-8975e944be99",
   "metadata": {},
   "outputs": [
    {
     "data": {
      "text/plain": [
       "(array([[0, 0, 0, 1, 1, 0, 1, 1, 0, 0, 0, 1, 1, 0, 1, 1, 1, 0, 1, 1, 1, 1,\n",
       "         1, 1, 1, 1, 1, 1, 1, 1]]),\n",
       " array([[0, 0, 0, 2, 2, 0, 2, 2, 0, 0, 0, 2, 2, 0, 2, 2, 2, 0, 2, 2, 2, 2,\n",
       "         2, 2, 2, 2, 2, 2, 2, 2]]),\n",
       " array([[1, 1, 1, 2, 2, 1, 2, 2, 1, 1, 1, 1, 2, 1, 2, 2, 1, 1, 1, 2, 1, 2,\n",
       "         1, 2, 1, 1, 2, 1, 2, 1]]),\n",
       " array([[0, 0, 0, 2, 2, 0, 2, 2, 0, 0, 0, 1, 2, 0, 2, 1, 1, 0, 1, 2, 1, 2,\n",
       "         1, 2, 1, 1, 2, 1, 2, 1]]))"
      ]
     },
     "execution_count": 181,
     "metadata": {},
     "output_type": "execute_result"
    }
   ],
   "source": [
    "votar_AB.T, votar_AC.T, votar_BC.T, y_test.T"
   ]
  },
  {
   "cell_type": "code",
   "execution_count": 182,
   "id": "8846328b-98e6-4347-8a61-91e59a358923",
   "metadata": {},
   "outputs": [
    {
     "data": {
      "text/plain": [
       "array([[0, 0, 1],\n",
       "       [0, 0, 1],\n",
       "       [0, 0, 1],\n",
       "       [1, 2, 2],\n",
       "       [1, 2, 2],\n",
       "       [0, 0, 1],\n",
       "       [1, 2, 2],\n",
       "       [1, 2, 2],\n",
       "       [0, 0, 1],\n",
       "       [0, 0, 1],\n",
       "       [0, 0, 1],\n",
       "       [1, 2, 1],\n",
       "       [1, 2, 2],\n",
       "       [0, 0, 1],\n",
       "       [1, 2, 2],\n",
       "       [1, 2, 2],\n",
       "       [1, 2, 1],\n",
       "       [0, 0, 1],\n",
       "       [1, 2, 1],\n",
       "       [1, 2, 2],\n",
       "       [1, 2, 1],\n",
       "       [1, 2, 2],\n",
       "       [1, 2, 1],\n",
       "       [1, 2, 2],\n",
       "       [1, 2, 1],\n",
       "       [1, 2, 1],\n",
       "       [1, 2, 2],\n",
       "       [1, 2, 1],\n",
       "       [1, 2, 2],\n",
       "       [1, 2, 1]])"
      ]
     },
     "execution_count": 182,
     "metadata": {},
     "output_type": "execute_result"
    }
   ],
   "source": [
    "vote_data = np.concatenate((votar_AB, votar_AC, votar_BC), axis =1)\n",
    "vote_data"
   ]
  },
  {
   "cell_type": "code",
   "execution_count": 183,
   "id": "712ee490-f4ff-47ef-a71b-204723b0af31",
   "metadata": {},
   "outputs": [
    {
     "data": {
      "text/plain": [
       "array([[0, 0],\n",
       "       [0, 0],\n",
       "       [0, 0],\n",
       "       [2, 2],\n",
       "       [2, 2],\n",
       "       [0, 0],\n",
       "       [2, 2],\n",
       "       [2, 2],\n",
       "       [0, 0],\n",
       "       [0, 0],\n",
       "       [0, 0],\n",
       "       [1, 1],\n",
       "       [2, 2],\n",
       "       [0, 0],\n",
       "       [2, 2],\n",
       "       [2, 1],\n",
       "       [1, 1],\n",
       "       [0, 0],\n",
       "       [1, 1],\n",
       "       [2, 2],\n",
       "       [1, 1],\n",
       "       [2, 2],\n",
       "       [1, 1],\n",
       "       [2, 2],\n",
       "       [1, 1],\n",
       "       [1, 1],\n",
       "       [2, 2],\n",
       "       [1, 1],\n",
       "       [2, 2],\n",
       "       [1, 1]])"
      ]
     },
     "execution_count": 183,
     "metadata": {},
     "output_type": "execute_result"
    }
   ],
   "source": [
    "data = []\n",
    "\n",
    "for i in range(len(vote_data)):   \n",
    "    values, votes = np.unique(vote_data[i], return_counts=True)\n",
    "    index_winner = votes.argmax()\n",
    "    data.append(values[index_winner])\n",
    "data = np.array(data)\n",
    "np.concatenate((data.reshape(len(data), 1), y_test), axis =1)"
   ]
  },
  {
   "cell_type": "code",
   "execution_count": 184,
   "id": "6f445e1d-6c1d-4672-9117-318491c236fa",
   "metadata": {},
   "outputs": [
    {
     "data": {
      "text/plain": [
       "array([[ 9,  0,  0],\n",
       "       [ 0,  9,  1],\n",
       "       [ 0,  0, 11]], dtype=int64)"
      ]
     },
     "execution_count": 184,
     "metadata": {},
     "output_type": "execute_result"
    }
   ],
   "source": [
    "cm = confusion_matrix(y_test , data)\n",
    "cm"
   ]
  },
  {
   "cell_type": "code",
   "execution_count": 185,
   "id": "3571b9e9-7376-474b-9810-a09256fe1b67",
   "metadata": {},
   "outputs": [
    {
     "data": {
      "text/plain": [
       "0.9666666666666667"
      ]
     },
     "execution_count": 185,
     "metadata": {},
     "output_type": "execute_result"
    }
   ],
   "source": [
    "actual = 0\n",
    "total = 0\n",
    "\n",
    "for i in range(len(cm)):\n",
    "    for j in range(len(cm[i])):\n",
    "        if i == j:\n",
    "            actual = cm[i][j] + actual\n",
    "        total = cm[i][j] + total\n",
    "actual / total\n"
   ]
  },
  {
   "cell_type": "code",
   "execution_count": 186,
   "id": "2a867dd9-1b7c-4a07-b14a-8d8be2ee384b",
   "metadata": {},
   "outputs": [
    {
     "data": {
      "image/png": "[encoded data removed]",
      "text/plain": [
       "<Figure size 432x288 with 2 Axes>"
      ]
     },
     "metadata": {
      "needs_background": "light"
     },
     "output_type": "display_data"
    }
   ],
   "source": [
    "y_axis_labels = iris[\"target_names\"]\n",
    "x_axis_labels = ['setosa_pred', 'versicolor_pred', 'virginica_pred']\n",
    "cm = confusion_matrix(y_test , data)\n",
    "f = sns.heatmap(cm, annot=True,  xticklabels=x_axis_labels, yticklabels=y_axis_labels)"
   ]
  },
  {
   "cell_type": "code",
   "execution_count": 187,
   "id": "f8f14cca-8963-40f5-92f5-224601f41762",
   "metadata": {},
   "outputs": [
    {
     "name": "stdout",
     "output_type": "stream",
     "text": [
      "              precision    recall  f1-score   support\n",
      "\n",
      "      setosa       1.00      1.00      1.00         9\n",
      "  versicolor       1.00      0.90      0.95        10\n",
      "   virginica       0.92      1.00      0.96        11\n",
      "\n",
      "    accuracy                           0.97        30\n",
      "   macro avg       0.97      0.97      0.97        30\n",
      "weighted avg       0.97      0.97      0.97        30\n",
      "\n"
     ]
    }
   ],
   "source": [
    "print(classification_report(y_test, data, target_names= iris[\"target_names\"]))"
   ]
  },
  {
   "cell_type": "code",
   "execution_count": null,
   "id": "d04989de-a8c9-4668-aca8-816d4f670ecc",
   "metadata": {},
   "outputs": [],
   "source": []
  }
 ],
 "metadata": {
  "kernelspec": {
   "display_name": "Python 3 (ipykernel)",
   "language": "python",
   "name": "python3"
  },
  "language_info": {
   "codemirror_mode": {
    "name": "ipython",
    "version": 3
   },
   "file_extension": ".py",
   "mimetype": "text/x-python",
   "name": "python",
   "nbconvert_exporter": "python",
   "pygments_lexer": "ipython3",
   "version": "3.10.1"
  }
 },
 "nbformat": 4,
 "nbformat_minor": 5
}
