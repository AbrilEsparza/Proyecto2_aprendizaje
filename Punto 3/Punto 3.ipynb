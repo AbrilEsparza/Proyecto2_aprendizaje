{
 "cells": [
  {
   "cell_type": "markdown",
   "id": "14329bc6",
   "metadata": {},
   "source": [
    "# Punto 3\n",
    "\n",
    "Resolver el problema de Fashion-MNIST utilizando funciones de biblioteca. Comparar los modelos LogisticRegression() vs. SGDClassifier(); una vez comparados se puede utilizar solo un modelo para la resolución del problema."
   ]
  },
  {
   "cell_type": "code",
   "execution_count": 300,
   "id": "e3f91db5",
   "metadata": {},
   "outputs": [],
   "source": [
    "import pandas as pd\n",
    "import numpy as np\n",
    "import matplotlib as mpl\n",
    "import matplotlib.pyplot as plt"
   ]
  },
  {
   "cell_type": "code",
   "execution_count": 301,
   "id": "bbb2213a",
   "metadata": {},
   "outputs": [],
   "source": [
    "data_train = pd.read_csv(\"data/train.csv\")\n",
    "data_test = pd.read_csv(\"data/test.csv\")"
   ]
  },
  {
   "cell_type": "code",
   "execution_count": 302,
   "id": "8e5fc7a1",
   "metadata": {},
   "outputs": [
    {
     "data": {
      "text/plain": [
       "Index(['Id', 'Category', 'Pixel000', 'Pixel001', 'Pixel002', 'Pixel003',\n",
       "       'Pixel004', 'Pixel005', 'Pixel006', 'Pixel007',\n",
       "       ...\n",
       "       'Pixel774', 'Pixel775', 'Pixel776', 'Pixel777', 'Pixel778', 'Pixel779',\n",
       "       'Pixel780', 'Pixel781', 'Pixel782', 'Pixel783'],\n",
       "      dtype='object', length=786)"
      ]
     },
     "execution_count": 302,
     "metadata": {},
     "output_type": "execute_result"
    }
   ],
   "source": [
    "data_train.keys()"
   ]
  },
  {
   "cell_type": "code",
   "execution_count": 303,
   "id": "49de80c0",
   "metadata": {},
   "outputs": [
    {
     "data": {
      "text/plain": [
       "0        2\n",
       "1        9\n",
       "2        6\n",
       "3        0\n",
       "4        3\n",
       "        ..\n",
       "59995    9\n",
       "59996    1\n",
       "59997    8\n",
       "59998    8\n",
       "59999    7\n",
       "Name: Category, Length: 60000, dtype: int64"
      ]
     },
     "execution_count": 303,
     "metadata": {},
     "output_type": "execute_result"
    }
   ],
   "source": [
    "data_train[\"Category\"]"
   ]
  },
  {
   "cell_type": "code",
   "execution_count": 304,
   "id": "b8ee6b51",
   "metadata": {},
   "outputs": [
    {
     "name": "stdout",
     "output_type": "stream",
     "text": [
      "[2 9 6 0 3 4 4 5 4 8]\n"
     ]
    }
   ],
   "source": [
    "y_train = np.array(data_train[\"Category\"])\n",
    "print(y[0:10])"
   ]
  },
  {
   "cell_type": "markdown",
   "id": "183014c2",
   "metadata": {},
   "source": [
    "## Vamos a recuperar una imagen"
   ]
  },
  {
   "cell_type": "code",
   "execution_count": 305,
   "id": "3fd0544b",
   "metadata": {},
   "outputs": [],
   "source": [
    "imagen = []\n",
    "contador = 0\n",
    "\n",
    "for key in data_train.keys():\n",
    "    if contador >= 2:\n",
    "        imagen.append(data_train[key][0])\n",
    "    contador += 1"
   ]
  },
  {
   "cell_type": "code",
   "execution_count": 306,
   "id": "30eb03b3",
   "metadata": {},
   "outputs": [
    {
     "name": "stdout",
     "output_type": "stream",
     "text": [
      "[  0   0   0   0   0   0   0   0   0   0   0   0   0   0   0   0   0   0\n",
      "   0   0   0   0   0   0   0   0   0   0   0   0   0   0   0   0   0   0\n",
      "   0   0   0   0   0   0   0   0   0   0   0   0   0   0   0   0   0   0\n",
      "   0   0   0   0   0   0   0   0   0   0   0   0   0   0   0   0   0   0\n",
      "   0   0   0   0   0   0   0   0   0   0   0   0   0   0   0   0   4   0\n",
      "   0   0   0   0  62  61  21  29  23  51 136  61   0   0   0   0   0   0\n",
      "   0   0   0   0   0   0   0   0   0   0   0  88 201 228 225 255 115  62\n",
      " 137 255 235 222 255 135   0   0   0   0   0   0   0   0   0   0   0   0\n",
      "   0  47 252 234 238 224 215 215 229 108 180 207 214 224 231 249 254  45\n",
      "   0   0   0   0   0   0   0   0   1   0   0 214 222 210 213 224 225 217\n",
      " 220 254 233 219 221 217 223 221 240 254   0   0   1   0   0   0   1   0\n",
      "   0   0 128 237 207 224 224 207 216 214 210 208 211 221 208 219 213 226\n",
      " 211 237 150   0   0   0   0   0   0   2   0   0 237 222 215 207 210 212\n",
      " 213 206 214 213 214 213 210 215 214 206 199 218 255  13   0   2   0   0\n",
      "   0   4   0  85 228 210 218 200 211 208 203 215 210 209 209 210 213 211\n",
      " 210 217 206 213 231 175   0   0   0   0   0   0   0 217 224 215 206 205\n",
      " 204 217 230 222 215 224 233 228 232 228 224 207 212 215 213 229  31   0\n",
      "   4   0   1   0  21 225 212 212 203 211 225 193 139 136 195 147 156 139\n",
      " 128 162 197 223 207 220 213 232 177   0   0   0   0   0 123 226 207 211\n",
      " 209 205 228 158  90 103 186 138 100 121 147 158 183 226 208 214 209 216\n",
      " 255  13   0   1   0   0 226 219 202 208 206 205 216 184 156 150 193 170\n",
      " 164 168 188 186 200 219 216 213 213 211 233 148   0   0   0  45 227 204\n",
      " 214 211 218 222 221 230 229 221 213 224 233 226 220 219 221 224 223 217\n",
      " 210 218 213 254   0   0   0 157 226 203 207 211 209 215 205 198 207 208\n",
      " 201 201 197 203 205 210 207 213 214 214 214 213 208 234 107   0   0 235\n",
      " 213 204 211 210 209 213 202 197 204 215 217 213 212 210 206 212 203 211\n",
      " 218 215 214 208 209 222 230   0  52 255 207 200 208 213 210 210 208 207\n",
      " 202 201 209 216 216 216 216 214 212 205 215 201 228 208 214 212 218  25\n",
      " 118 217 201 206 208 213 208 205 206 210 211 202 199 207 208 209 210 207\n",
      " 210 210 245 139 119 255 202 203 236 114 171 238 212 203 220 216 217 209\n",
      " 207 205 210 211 206 204 206 209 211 215 210 206 221 242   0 224 234 230\n",
      " 181  26  39 145 201 255 157 115 250 200 207 206 207 213 216 206 205 206\n",
      " 207 206 215 207 221 238   0   0 188  85   0   0   0   0   0  31   0 129\n",
      " 253 190 207 208 208 208 209 211 211 209 209 209 212 201 226 165   0   0\n",
      "   0   0   0   0   2   0   0   0   0  89 254 199 199 192 196 198 199 201\n",
      " 202 203 204 203 203 200 222 155   0   3   3   3   2   0   0   0   1   5\n",
      "   0   0 255 218 226 232 228 224 222 220 219 219 217 221 220 212 236  95\n",
      "   0   2   0   0   0   0   0   0   0   0   0   0 155 194 168 170 171 173\n",
      " 173 179 177 175 172 171 167 161 180   0   0   1   0   1   0   0   0   0\n",
      "   0   0   0   0   0   0   0   0   0   0   0   0   0   0   0   0   0   0\n",
      "   0   0   0   0   0   0   0   0   0   0   0   0   0   0   0   0   0   0\n",
      "   0   0   0   0   0   0   0   0   0   0   0   0   0   0   0   0   0   0\n",
      "   0   0   0   0   0   0   0   0   0   0   0   0   0   0   0   0   0   0\n",
      "   0   0   0   0   0   0   0   0   0   0]\n"
     ]
    }
   ],
   "source": [
    "imagen = np.array(imagen)\n",
    "print(imagen)"
   ]
  },
  {
   "cell_type": "code",
   "execution_count": 307,
   "id": "f05941a1",
   "metadata": {},
   "outputs": [],
   "source": [
    "imagen = imagen.reshape(28,28)"
   ]
  },
  {
   "cell_type": "code",
   "execution_count": 308,
   "id": "c27eff40",
   "metadata": {},
   "outputs": [
    {
     "data": {
      "image/png": "[encoded data removed]",
      "text/plain": [
       "<Figure size 432x288 with 1 Axes>"
      ]
     },
     "metadata": {
      "needs_background": "light"
     },
     "output_type": "display_data"
    }
   ],
   "source": [
    "plt.imshow(imagen, cmap='binary')\n",
    "plt.axis('off')\n",
    "plt.show()"
   ]
  },
  {
   "cell_type": "markdown",
   "id": "b0819b01",
   "metadata": {},
   "source": [
    "## Vamos a recuperar todas las imágenes de Train"
   ]
  },
  {
   "cell_type": "code",
   "execution_count": 309,
   "id": "d90b2966",
   "metadata": {},
   "outputs": [],
   "source": [
    "X_train = np.array(data_train[\"Pixel000\"][:]).reshape(60000,1)"
   ]
  },
  {
   "cell_type": "code",
   "execution_count": 310,
   "id": "c8ebf7cd",
   "metadata": {},
   "outputs": [],
   "source": [
    "contador = 0\n",
    "for key in data_train.keys():\n",
    "    if contador >= 3:\n",
    "        X_train = np.c_[X_train,np.array(data_train[key][:]).reshape(60000,1)]\n",
    "    contador +=1"
   ]
  },
  {
   "cell_type": "code",
   "execution_count": 311,
   "id": "4f761977",
   "metadata": {},
   "outputs": [
    {
     "data": {
      "image/png": "[encoded data removed]",
      "text/plain": [
       "<Figure size 432x288 with 1 Axes>"
      ]
     },
     "metadata": {
      "needs_background": "light"
     },
     "output_type": "display_data"
    }
   ],
   "source": [
    "plt.imshow(X_train[0][:].reshape(28,28), cmap='binary')\n",
    "plt.axis('off')\n",
    "plt.show()"
   ]
  },
  {
   "cell_type": "markdown",
   "id": "28817ad2",
   "metadata": {},
   "source": [
    "## Vamos a recuperar todas las imágenes de Test"
   ]
  },
  {
   "cell_type": "code",
   "execution_count": 312,
   "id": "92364904",
   "metadata": {},
   "outputs": [],
   "source": [
    "X_test = np.array(data_test[\"Pixel000\"][:]).reshape(10000,1)"
   ]
  },
  {
   "cell_type": "code",
   "execution_count": 313,
   "id": "df369304",
   "metadata": {},
   "outputs": [],
   "source": [
    "contador = 0\n",
    "for key in data_test.keys():\n",
    "    if contador >= 2:\n",
    "        X_test = np.c_[X_test,np.array(data_test[key][:]).reshape(10000,1)]\n",
    "    contador +=1"
   ]
  },
  {
   "cell_type": "code",
   "execution_count": 314,
   "id": "40e41cd9",
   "metadata": {},
   "outputs": [
    {
     "data": {
      "image/png": "[encoded data removed]",
      "text/plain": [
       "<Figure size 432x288 with 1 Axes>"
      ]
     },
     "metadata": {
      "needs_background": "light"
     },
     "output_type": "display_data"
    }
   ],
   "source": [
    "plt.imshow(X_test[1][:].reshape(28,28), cmap='binary')\n",
    "plt.axis('off')\n",
    "plt.show()"
   ]
  },
  {
   "cell_type": "markdown",
   "id": "3448385b",
   "metadata": {},
   "source": [
    "## Vamos a desplegar para que se vean bonitas"
   ]
  },
  {
   "cell_type": "code",
   "execution_count": null,
   "id": "a6037ef3",
   "metadata": {},
   "outputs": [],
   "source": []
  },
  {
   "cell_type": "code",
   "execution_count": null,
   "id": "137c84c1",
   "metadata": {},
   "outputs": [],
   "source": []
  }
 ],
 "metadata": {
  "kernelspec": {
   "display_name": "Python 3 (ipykernel)",
   "language": "python",
   "name": "python3"
  },
  "language_info": {
   "codemirror_mode": {
    "name": "ipython",
    "version": 3
   },
   "file_extension": ".py",
   "mimetype": "text/x-python",
   "name": "python",
   "nbconvert_exporter": "python",
   "pygments_lexer": "ipython3",
   "version": "3.9.7"
  }
 },
 "nbformat": 4,
 "nbformat_minor": 5
}
