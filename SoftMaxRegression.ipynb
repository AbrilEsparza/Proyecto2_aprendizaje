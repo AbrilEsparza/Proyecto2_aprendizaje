{
 "cells": [
  {
   "cell_type": "markdown",
   "id": "6d25db95",
   "metadata": {},
   "source": [
    "## Proyecto 2: Clasificación \n",
    "#### Aprendizaje Automatico\n",
    "\n",
    "### SoftMax Regression: IRIS DATASET\n",
    "\n",
    "\n",
    "#### Librerías"
   ]
  },
  {
   "cell_type": "code",
   "execution_count": 422,
   "id": "f03b7462",
   "metadata": {},
   "outputs": [],
   "source": [
    "import numpy as np\n",
    "import matplotlib.pyplot as plt\n",
    "from sklearn.model_selection import train_test_split\n",
    "from sklearn import datasets\n",
    "from sklearn.metrics import confusion_matrix, classification_report\n",
    "from sklearn.linear_model import LogisticRegression\n",
    "from scipy.sparse import csr_matrix\n",
    "from sklearn.preprocessing import StandardScaler\n",
    "from sklearn.utils import shuffle\n",
    "import scipy.sparse\n",
    "import seaborn as sns"
   ]
  },
  {
   "cell_type": "markdown",
   "id": "fd373fd4",
   "metadata": {},
   "source": [
    "### Dataset \n"
   ]
  },
  {
   "cell_type": "code",
   "execution_count": 423,
   "id": "b38c533e",
   "metadata": {},
   "outputs": [],
   "source": [
    "iris = datasets.load_iris()\n",
    "X = iris[\"data\"][::]\n",
    "y = (iris[\"target\"]).astype(int).reshape(len(iris.target),1)"
   ]
  },
  {
   "cell_type": "code",
   "execution_count": 424,
   "id": "b50941eb",
   "metadata": {},
   "outputs": [],
   "source": [
    "scaler = StandardScaler()\n",
    "X = scaler.fit_transform(X)"
   ]
  },
  {
   "cell_type": "code",
   "execution_count": 425,
   "id": "d743855f",
   "metadata": {},
   "outputs": [],
   "source": [
    "def shuffleData(X, y):\n",
    "   \n",
    "    n = X.shape[1]\n",
    "    data = np.c_[X, y]\n",
    "    data = shuffle(data)\n",
    "    \n",
    "    return data[:,0:n], data[:,n:]"
   ]
  },
  {
   "cell_type": "code",
   "execution_count": 426,
   "id": "eaa0f60a",
   "metadata": {},
   "outputs": [],
   "source": [
    "X_, y_ = shuffleData(X, y)\n",
    "X_train, X_test, y_train, y_test = train_test_split(X_,y_, test_size=0.5, random_state=55)"
   ]
  },
  {
   "cell_type": "code",
   "execution_count": 427,
   "id": "fc75943e",
   "metadata": {},
   "outputs": [],
   "source": [
    "X_train = np.c_[np.ones((len(X_train),1)), X_train]\n",
    "X_test = np.c_[np.ones((len(X_test),1)), X_test]"
   ]
  },
  {
   "cell_type": "markdown",
   "id": "a1868a1e",
   "metadata": {},
   "source": [
    "### Score $s_k(x)$"
   ]
  },
  {
   "cell_type": "code",
   "execution_count": 428,
   "id": "70a445a1",
   "metadata": {},
   "outputs": [],
   "source": [
    "def score_x(x, theta):\n",
    "    score=[]\n",
    "    for i in range(theta.shape[1]):\n",
    "        score.append(x @ theta[:,i])\n",
    "    #score = x.T @ theta\n",
    "    return score"
   ]
  },
  {
   "cell_type": "markdown",
   "id": "7d9877e5",
   "metadata": {},
   "source": [
    "### Funcion softmax\n",
    "\n",
    "#         $\\hat{p_k}=\\frac{\\exp(s_k(x))}{\\sum_{j=1}^{K}{\\exp(s_j(x))}}$"
   ]
  },
  {
   "cell_type": "code",
   "execution_count": 429,
   "id": "1cd8b925",
   "metadata": {},
   "outputs": [],
   "source": [
    "def softmaxfunction(s): \n",
    "    return np.exp(s)/np.sum(np.exp(s), axis = 0)"
   ]
  },
  {
   "cell_type": "markdown",
   "id": "1566b591",
   "metadata": {},
   "source": [
    "### Función Costo"
   ]
  },
  {
   "cell_type": "code",
   "execution_count": 430,
   "id": "d04173f3",
   "metadata": {},
   "outputs": [],
   "source": [
    "def gradient_descend(X, y, epochs, eta):\n",
    "    \n",
    "   # X_b = np.c_[np.ones((len(y), 1)), X]\n",
    "    m, n = X.shape\n",
    "    theta = np.random.rand(n,1)\n",
    "    \n",
    "    for i in range(epochs):\n",
    "        gradients = -(1/m) * (X_b.T @ (sigmoid(X_b @ theta) - y))\n",
    "        theta = theta + eta*gradients\n",
    "    \n",
    "    return theta\n",
    "    "
   ]
  },
  {
   "cell_type": "code",
   "execution_count": 431,
   "id": "12a671f2",
   "metadata": {},
   "outputs": [],
   "source": [
    "def oneHotIt(Y):\n",
    "    m = Y.shape[0]\n",
    "    Y = Y.ravel()\n",
    "    #Y = Y[:,0]\n",
    "    OHX = scipy.sparse.csr_matrix((np.ones(m), (Y, np.array(range(m)))))\n",
    "    OHX = np.array(OHX.todense()).T\n",
    "    return OHX"
   ]
  },
  {
   "cell_type": "code",
   "execution_count": 432,
   "id": "2404cce7",
   "metadata": {},
   "outputs": [],
   "source": [
    "def costo(theta,x,y):\n",
    "    m = x.shape[0] #First we get the number of training examples\n",
    "    y_mat = oneHotIt(y) #Next we convert the integer class coding into a one-hot representation\n",
    "    scores = score_x(x,theta) #Then we compute raw class scores given our input and current weights\n",
    "    prob = softmaxfunction(scores).T #Next we perform a softmax on these scores to get their probabilities\n",
    "    loss = (-1 / m) * np.sum(y_mat * np.log(prob)) #+ (lam/2)*np.sum(thrta*theta) #We then find the loss of the probabilities\n",
    "    grad = (-1 / m) * (x.T @ (y_mat - prob)) #+ lam*w #And compute the gradient for that loss\n",
    "    return loss,grad"
   ]
  },
  {
   "cell_type": "code",
   "execution_count": null,
   "id": "286b2ea5",
   "metadata": {},
   "outputs": [],
   "source": []
  },
  {
   "cell_type": "code",
   "execution_count": 433,
   "id": "44539699",
   "metadata": {},
   "outputs": [],
   "source": [
    "def getProbsAndPreds(someX):\n",
    "    probs = softmaxfunction(score_x(someX, theta))\n",
    "    preds = np.argmax(probs,axis=0)\n",
    "    return probs,preds"
   ]
  },
  {
   "cell_type": "code",
   "execution_count": 434,
   "id": "b99b9956",
   "metadata": {},
   "outputs": [],
   "source": [
    "theta = np.random.rand(X_train.shape[1],len(np.unique(y_train)))"
   ]
  },
  {
   "cell_type": "code",
   "execution_count": 435,
   "id": "d34f6683",
   "metadata": {},
   "outputs": [
    {
     "name": "stdout",
     "output_type": "stream",
     "text": [
      "0.048169104116226324\n"
     ]
    }
   ],
   "source": [
    "eta = 0.9\n",
    "n_epochs= 4000\n",
    "\n",
    "losses = []\n",
    "for i in range(0,n_epochs):\n",
    "    loss,grad = costo(theta,X_train,y_train.astype(int))\n",
    "    losses.append(loss)\n",
    "    theta = theta - (eta * grad)\n",
    "print (loss)"
   ]
  },
  {
   "cell_type": "code",
   "execution_count": 436,
   "id": "67ce7f67",
   "metadata": {},
   "outputs": [
    {
     "data": {
      "text/plain": [
       "array([[ 0.07230523,  6.15896577, -4.58907189],\n",
       "       [-2.0328948 ,  2.1458087 ,  1.23411776],\n",
       "       [ 3.05730856, -0.04371058, -1.32971412],\n",
       "       [-5.10685725, -0.83364806,  7.56511834],\n",
       "       [-4.40901926, -1.78674075,  8.06964352]])"
      ]
     },
     "execution_count": 436,
     "metadata": {},
     "output_type": "execute_result"
    }
   ],
   "source": [
    "theta"
   ]
  },
  {
   "cell_type": "code",
   "execution_count": 437,
   "id": "b8cecf73",
   "metadata": {},
   "outputs": [
    {
     "data": {
      "image/png": "[encoded data removed]",
      "text/plain": [
       "<Figure size 432x288 with 1 Axes>"
      ]
     },
     "metadata": {
      "needs_background": "light"
     },
     "output_type": "display_data"
    }
   ],
   "source": [
    "plt.plot(losses)\n",
    "plt.ylim([0., 1])\n",
    "plt.show()"
   ]
  },
  {
   "cell_type": "code",
   "execution_count": 438,
   "id": "d5be521a",
   "metadata": {},
   "outputs": [],
   "source": [
    "def getAccuracy(someX,someY):\n",
    "    prob,prede = getProbsAndPreds(someX)\n",
    "    accuracy = sum(prede == someY)/(float(len(someY)))\n",
    "    return accuracy"
   ]
  },
  {
   "cell_type": "code",
   "execution_count": 439,
   "id": "286f6cd1",
   "metadata": {},
   "outputs": [
    {
     "name": "stdout",
     "output_type": "stream",
     "text": [
      "Training Accuracy:  [0.33333333 0.33333333 0.33333333 0.33333333 0.33333333 0.33333333\n",
      " 0.33333333 0.33333333 0.33333333 0.33333333 0.33333333 0.33333333\n",
      " 0.33333333 0.33333333 0.33333333 0.33333333 0.33333333 0.33333333\n",
      " 0.33333333 0.33333333 0.33333333 0.33333333 0.33333333 0.33333333\n",
      " 0.33333333 0.33333333 0.33333333 0.33333333 0.33333333 0.33333333\n",
      " 0.33333333 0.33333333 0.33333333 0.33333333 0.33333333 0.33333333\n",
      " 0.33333333 0.33333333 0.33333333 0.33333333 0.33333333 0.33333333\n",
      " 0.33333333 0.33333333 0.33333333 0.33333333 0.33333333 0.33333333\n",
      " 0.33333333 0.33333333 0.33333333 0.33333333 0.33333333 0.33333333\n",
      " 0.33333333 0.33333333 0.33333333 0.33333333 0.33333333 0.33333333\n",
      " 0.33333333 0.33333333 0.33333333 0.33333333 0.33333333 0.33333333\n",
      " 0.33333333 0.33333333 0.33333333 0.33333333 0.33333333 0.33333333\n",
      " 0.33333333 0.33333333 0.33333333]\n",
      "Test Accuracy:  [0.33333333 0.33333333 0.33333333 0.33333333 0.33333333 0.33333333\n",
      " 0.33333333 0.33333333 0.33333333 0.33333333 0.33333333 0.33333333\n",
      " 0.33333333 0.33333333 0.33333333 0.33333333 0.33333333 0.33333333\n",
      " 0.33333333 0.33333333 0.33333333 0.33333333 0.33333333 0.33333333\n",
      " 0.33333333 0.33333333 0.33333333 0.33333333 0.33333333 0.33333333\n",
      " 0.33333333 0.33333333 0.33333333 0.33333333 0.33333333 0.33333333\n",
      " 0.33333333 0.33333333 0.33333333 0.33333333 0.33333333 0.33333333\n",
      " 0.33333333 0.33333333 0.33333333 0.33333333 0.33333333 0.33333333\n",
      " 0.33333333 0.33333333 0.33333333 0.33333333 0.33333333 0.33333333\n",
      " 0.33333333 0.33333333 0.33333333 0.33333333 0.33333333 0.33333333\n",
      " 0.33333333 0.33333333 0.33333333 0.33333333 0.33333333 0.33333333\n",
      " 0.33333333 0.33333333 0.33333333 0.33333333 0.33333333 0.33333333\n",
      " 0.33333333 0.33333333 0.33333333]\n"
     ]
    }
   ],
   "source": [
    "print ('Training Accuracy: ', getAccuracy(X_train,y_train))\n",
    "print ('Test Accuracy: ', getAccuracy(X_test,y_test))"
   ]
  },
  {
   "cell_type": "code",
   "execution_count": 440,
   "id": "2cd13f62",
   "metadata": {},
   "outputs": [
    {
     "data": {
      "text/plain": [
       "75"
      ]
     },
     "execution_count": 440,
     "metadata": {},
     "output_type": "execute_result"
    }
   ],
   "source": [
    "len(X_train)"
   ]
  },
  {
   "cell_type": "code",
   "execution_count": 441,
   "id": "cc1f9803",
   "metadata": {},
   "outputs": [
    {
     "data": {
      "text/plain": [
       "75"
      ]
     },
     "execution_count": 441,
     "metadata": {},
     "output_type": "execute_result"
    }
   ],
   "source": [
    "len(y_train)"
   ]
  },
  {
   "cell_type": "code",
   "execution_count": 442,
   "id": "444b9190",
   "metadata": {},
   "outputs": [
    {
     "data": {
      "text/plain": [
       "3"
      ]
     },
     "execution_count": 442,
     "metadata": {},
     "output_type": "execute_result"
    }
   ],
   "source": [
    "theta.shape[1]"
   ]
  },
  {
   "cell_type": "code",
   "execution_count": 443,
   "id": "d7901c99",
   "metadata": {},
   "outputs": [],
   "source": [
    "prob,prede = getProbsAndPreds(X_train)"
   ]
  },
  {
   "cell_type": "code",
   "execution_count": 444,
   "id": "81c0754d",
   "metadata": {},
   "outputs": [
    {
     "data": {
      "text/plain": [
       "array([1, 0, 1, 1, 2, 0, 1, 2, 1, 1, 0, 2, 2, 2, 2, 2, 1, 2, 0, 0, 2, 1,\n",
       "       0, 0, 1, 1, 0, 1, 0, 2, 0, 0, 1, 2, 1, 0, 0, 0, 2, 0, 2, 1, 0, 1,\n",
       "       2, 0, 0, 0, 2, 0, 1, 1, 0, 1, 0, 2, 1, 2, 1, 1, 0, 1, 0, 2, 2, 2,\n",
       "       1, 2, 2, 1, 0, 2, 2, 2, 1], dtype=int32)"
      ]
     },
     "execution_count": 444,
     "metadata": {},
     "output_type": "execute_result"
    }
   ],
   "source": [
    "prede"
   ]
  },
  {
   "cell_type": "code",
   "execution_count": 445,
   "id": "529b6971",
   "metadata": {},
   "outputs": [
    {
     "data": {
      "text/plain": [
       "array([1., 0., 1., 1., 2., 0., 1., 2., 1., 1., 0., 2., 2., 2., 2., 2., 1.,\n",
       "       2., 0., 0., 2., 2., 0., 0., 1., 1., 0., 1., 0., 2., 0., 0., 1., 2.,\n",
       "       1., 0., 0., 0., 2., 0., 2., 1., 0., 1., 2., 0., 0., 0., 2., 0., 1.,\n",
       "       1., 0., 1., 0., 2., 1., 2., 1., 1., 0., 1., 0., 2., 2., 2., 1., 2.,\n",
       "       2., 1., 0., 2., 2., 1., 1.])"
      ]
     },
     "execution_count": 445,
     "metadata": {},
     "output_type": "execute_result"
    }
   ],
   "source": [
    "y_train.ravel()"
   ]
  },
  {
   "cell_type": "code",
   "execution_count": 446,
   "id": "69eddb1e",
   "metadata": {},
   "outputs": [
    {
     "data": {
      "text/plain": [
       "array([1., 1., 1., 1., 1., 1., 1., 1., 1., 1., 1., 1., 1., 1., 1., 1., 1.,\n",
       "       1., 1., 1., 1., 1., 1., 1., 1., 1., 1., 1., 1., 1., 1., 1., 1., 1.,\n",
       "       1., 1., 1., 1., 1., 1., 1., 1., 1., 1., 1., 1., 1., 1., 1., 1., 1.,\n",
       "       1., 1., 1., 1., 1., 1., 1., 1., 1., 1., 1., 1., 1., 1., 1., 1., 1.,\n",
       "       1., 1., 1., 1., 1., 1., 1.])"
      ]
     },
     "execution_count": 446,
     "metadata": {},
     "output_type": "execute_result"
    }
   ],
   "source": [
    "prob\n",
    "prob.sum(axis=0)"
   ]
  },
  {
   "cell_type": "code",
   "execution_count": 447,
   "id": "a1f7b001",
   "metadata": {},
   "outputs": [
    {
     "data": {
      "text/plain": [
       "array([[ 0.07230523,  6.15896577, -4.58907189],\n",
       "       [-2.0328948 ,  2.1458087 ,  1.23411776],\n",
       "       [ 3.05730856, -0.04371058, -1.32971412],\n",
       "       [-5.10685725, -0.83364806,  7.56511834],\n",
       "       [-4.40901926, -1.78674075,  8.06964352]])"
      ]
     },
     "execution_count": 447,
     "metadata": {},
     "output_type": "execute_result"
    }
   ],
   "source": [
    "theta"
   ]
  },
  {
   "cell_type": "code",
   "execution_count": 448,
   "id": "cd48fa8c",
   "metadata": {},
   "outputs": [],
   "source": [
    "prob,prede = getProbsAndPreds(X_test)"
   ]
  },
  {
   "cell_type": "code",
   "execution_count": 449,
   "id": "2dabf881",
   "metadata": {},
   "outputs": [
    {
     "data": {
      "text/plain": [
       "array([1, 0, 2, 2, 2, 0, 2, 1, 2, 0, 2, 2, 1, 0, 1, 2, 2, 2, 0, 0, 0, 2,\n",
       "       0, 1, 1, 0, 1, 1, 2, 0, 0, 2, 2, 2, 0, 2, 2, 2, 1, 2, 1, 2, 0, 2,\n",
       "       0, 2, 1, 0, 0, 1, 1, 2, 1, 0, 0, 1, 0, 1, 1, 0, 1, 0, 1, 0, 1, 1,\n",
       "       2, 2, 1, 2, 0, 0, 0, 1, 2], dtype=int32)"
      ]
     },
     "execution_count": 449,
     "metadata": {},
     "output_type": "execute_result"
    }
   ],
   "source": [
    "prede"
   ]
  },
  {
   "cell_type": "code",
   "execution_count": 450,
   "id": "82385a74",
   "metadata": {},
   "outputs": [
    {
     "data": {
      "text/plain": [
       "array([1., 0., 2., 2., 2., 0., 2., 1., 2., 0., 2., 2., 1., 0., 1., 2., 2.,\n",
       "       2., 0., 0., 0., 2., 0., 1., 1., 0., 1., 1., 2., 0., 0., 2., 2., 2.,\n",
       "       0., 2., 2., 2., 1., 2., 1., 2., 0., 2., 0., 1., 1., 0., 0., 1., 1.,\n",
       "       2., 1., 0., 0., 1., 0., 1., 1., 0., 1., 0., 1., 0., 1., 1., 2., 1.,\n",
       "       1., 2., 0., 0., 0., 1., 2.])"
      ]
     },
     "execution_count": 450,
     "metadata": {},
     "output_type": "execute_result"
    }
   ],
   "source": [
    "y_test.ravel()"
   ]
  },
  {
   "cell_type": "code",
   "execution_count": 451,
   "id": "acb5db46",
   "metadata": {},
   "outputs": [],
   "source": [
    "def error(original_target, predict_target):\n",
    "    \n",
    "   \n",
    "    \n",
    "    counter = 0.0\n",
    "    \n",
    "    for i in range(len(original_target)):\n",
    "        if original_target[i] != predict_target[i]:\n",
    "            counter += 1\n",
    "            \n",
    "    return counter/len(original_target)"
   ]
  },
  {
   "cell_type": "code",
   "execution_count": 452,
   "id": "435db9aa",
   "metadata": {},
   "outputs": [
    {
     "data": {
      "text/plain": [
       "0.02666666666666667"
      ]
     },
     "execution_count": 452,
     "metadata": {},
     "output_type": "execute_result"
    }
   ],
   "source": [
    "error(y_test, prede)"
   ]
  },
  {
   "cell_type": "code",
   "execution_count": 453,
   "id": "bbe5f32d",
   "metadata": {},
   "outputs": [
    {
     "data": {
      "text/plain": [
       "array([[1.],\n",
       "       [0.],\n",
       "       [2.],\n",
       "       [2.],\n",
       "       [2.]])"
      ]
     },
     "execution_count": 453,
     "metadata": {},
     "output_type": "execute_result"
    }
   ],
   "source": [
    "y_test[:5]"
   ]
  },
  {
   "cell_type": "code",
   "execution_count": 454,
   "id": "54514cb6",
   "metadata": {},
   "outputs": [
    {
     "data": {
      "text/plain": [
       "array([1, 0, 2, 2, 2], dtype=int32)"
      ]
     },
     "execution_count": 454,
     "metadata": {},
     "output_type": "execute_result"
    }
   ],
   "source": [
    "q = prede[:5]\n",
    "q"
   ]
  },
  {
   "cell_type": "code",
   "execution_count": 455,
   "id": "e70c44e0",
   "metadata": {},
   "outputs": [
    {
     "data": {
      "text/plain": [
       "array([[1],\n",
       "       [0],\n",
       "       [2],\n",
       "       [2],\n",
       "       [2]], dtype=int32)"
      ]
     },
     "execution_count": 455,
     "metadata": {},
     "output_type": "execute_result"
    }
   ],
   "source": [
    "q.reshape(-1, 1)"
   ]
  },
  {
   "cell_type": "code",
   "execution_count": 456,
   "id": "6fcbb352",
   "metadata": {},
   "outputs": [],
   "source": [
    "prede = prede.reshape(-1,1)"
   ]
  },
  {
   "cell_type": "code",
   "execution_count": 457,
   "id": "d09437a8",
   "metadata": {},
   "outputs": [],
   "source": [
    "ex = error(y_test, prede)"
   ]
  },
  {
   "cell_type": "code",
   "execution_count": 458,
   "id": "d90c688e",
   "metadata": {},
   "outputs": [
    {
     "name": "stdout",
     "output_type": "stream",
     "text": [
      "0.9733333333333334\n"
     ]
    }
   ],
   "source": [
    "print( 1-ex)"
   ]
  },
  {
   "cell_type": "code",
   "execution_count": 459,
   "id": "dfd7242b",
   "metadata": {},
   "outputs": [
    {
     "data": {
      "text/plain": [
       "75"
      ]
     },
     "execution_count": 459,
     "metadata": {},
     "output_type": "execute_result"
    }
   ],
   "source": [
    "len(y_train)"
   ]
  },
  {
   "cell_type": "code",
   "execution_count": 462,
   "id": "ff72c4bb",
   "metadata": {},
   "outputs": [
    {
     "data": {
      "text/plain": [
       "array([ True,  True,  True,  True,  True,  True,  True,  True,  True,\n",
       "        True,  True,  True,  True,  True,  True,  True,  True,  True,\n",
       "        True,  True,  True,  True,  True,  True,  True,  True,  True,\n",
       "        True,  True,  True,  True,  True,  True,  True,  True,  True,\n",
       "        True,  True,  True,  True,  True,  True,  True,  True,  True,\n",
       "       False,  True,  True,  True,  True,  True,  True,  True,  True,\n",
       "        True,  True,  True,  True,  True,  True,  True,  True,  True,\n",
       "        True,  True,  True,  True, False,  True,  True,  True,  True,\n",
       "        True,  True,  True])"
      ]
     },
     "execution_count": 462,
     "metadata": {},
     "output_type": "execute_result"
    }
   ],
   "source": [
    "(y_test==prede).ravel()"
   ]
  },
  {
   "cell_type": "code",
   "execution_count": null,
   "id": "c8198664",
   "metadata": {},
   "outputs": [],
   "source": []
  }
 ],
 "metadata": {
  "kernelspec": {
   "display_name": "Python 3",
   "language": "python",
   "name": "python3"
  },
  "language_info": {
   "codemirror_mode": {
    "name": "ipython",
    "version": 3
   },
   "file_extension": ".py",
   "mimetype": "text/x-python",
   "name": "python",
   "nbconvert_exporter": "python",
   "pygments_lexer": "ipython3",
   "version": "3.8.8"
  }
 },
 "nbformat": 4,
 "nbformat_minor": 5
}
